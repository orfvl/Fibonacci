{
  "cells": [
    {
      "cell_type": "markdown",
      "metadata": {
        "id": "view-in-github",
        "colab_type": "text"
      },
      "source": [
        "<a href=\"https://colab.research.google.com/github/orfvl/Fibonacci/blob/master/Instructions_GoogleColab.ipynb\" target=\"_parent\"><img src=\"https://colab.research.google.com/assets/colab-badge.svg\" alt=\"Open In Colab\"/></a>"
      ]
    },
    {
      "cell_type": "markdown",
      "metadata": {
        "id": "dnLsCjLDMiCO"
      },
      "source": [
        "# Running SML Project 2 on Google Colab\n",
        "\n",
        "This is the interface to run the code on Google Colab. You will still need to implement your code in `train.py`, `test.py`, and `eth_mugs_dataset.py`. You can also add other files if you need to.\n",
        "\n",
        "- The checkpoints and prediction masks will be saved directly on your Google Drive. Make sure you have enough space."
      ]
    },
    {
      "cell_type": "markdown",
      "metadata": {
        "id": "BTx8Wss3eD0j"
      },
      "source": [
        "## Initialization\n",
        "Setting the Google Colab environment up."
      ]
    },
    {
      "cell_type": "code",
      "execution_count": 1,
      "metadata": {
        "colab": {
          "base_uri": "https://localhost:8080/"
        },
        "id": "D9eaRYAf_iWs",
        "outputId": "4d251115-3d98-47fa-c8a3-b825d8b48ee8"
      },
      "outputs": [
        {
          "output_type": "stream",
          "name": "stdout",
          "text": [
            "Mounted at /content/drive\n"
          ]
        }
      ],
      "source": [
        "# These two lines ensure that we always import the latest version of a package, in case it has been modified.\n",
        "%load_ext autoreload\n",
        "%autoreload 2\n",
        "\n",
        "from google.colab import drive\n",
        "drive.mount('/content/drive')"
      ]
    },
    {
      "cell_type": "markdown",
      "metadata": {
        "id": "L_TTjEHrMfIK"
      },
      "source": [
        "**TODO:** Go to the folder in Google drive where you uploaded the code and data\n",
        "\n",
        "Say you upload the `project2` folder to your google drive under `My Drive`. You can access the files in your google drive by:"
      ]
    },
    {
      "cell_type": "code",
      "execution_count": 2,
      "metadata": {
        "colab": {
          "base_uri": "https://localhost:8080/"
        },
        "id": "GTVU1pMT_pMA",
        "outputId": "4ba4c648-e66a-4eb4-e1b9-5f4e8c16d10f"
      },
      "outputs": [
        {
          "output_type": "stream",
          "name": "stdout",
          "text": [
            "/content/drive/MyDrive/Colab Notebooks/project2\n"
          ]
        }
      ],
      "source": [
        "%cd /content/drive/MyDrive/Colab\\ Notebooks/project2"
      ]
    },
    {
      "cell_type": "markdown",
      "metadata": {
        "id": "t6H2mqRfdqlJ"
      },
      "source": [
        "Make sure to have unzipped the datasets, if you have not already. If you haven't, run the following, making sure to adjust the path as needed"
      ]
    },
    {
      "cell_type": "code",
      "execution_count": null,
      "metadata": {
        "colab": {
          "base_uri": "https://localhost:8080/"
        },
        "id": "QphZsrr5dqlK",
        "outputId": "3f26256e-b0cf-4597-93a3-cbe8f768c9fc"
      },
      "outputs": [
        {
          "name": "stdout",
          "output_type": "stream",
          "text": [
            "Archive:  /content/drive/MyDrive/Colab Notebooks/project2/datasets/public_test_images_378_252.zip\n",
            "replace datasets/public_test_images_378_252/rgb/0074_rgb.jpg? [y]es, [n]o, [A]ll, [N]one, [r]ename: N\n",
            "Archive:  /content/drive/MyDrive/Colab Notebooks/project2/datasets/train_images_378_252.zip\n",
            "replace datasets/train_images_378_252/.DS_Store? [y]es, [n]o, [A]ll, [N]one, [r]ename: N\n"
          ]
        }
      ],
      "source": [
        "!unzip /content/drive/MyDrive/Colab\\ Notebooks/project2/datasets/public_test_images_378_252.zip -d datasets/\n",
        "!unzip /content/drive/MyDrive/Colab\\ Notebooks/project2/datasets/train_images_378_252.zip -d datasets/"
      ]
    },
    {
      "cell_type": "markdown",
      "metadata": {
        "id": "T0sNjKzvdqlK"
      },
      "source": [
        "Further make sure that you are on an instance with a GPU. If the following command produces an error, check out the Google Colab guide on Moodle."
      ]
    },
    {
      "cell_type": "code",
      "execution_count": null,
      "metadata": {
        "colab": {
          "base_uri": "https://localhost:8080/"
        },
        "id": "MsxvrJ38dqlL",
        "outputId": "c443d2fe-27b2-4861-b7d6-21fd10062d2d"
      },
      "outputs": [
        {
          "name": "stdout",
          "output_type": "stream",
          "text": [
            "Sat May 18 15:16:12 2024       \n",
            "+---------------------------------------------------------------------------------------+\n",
            "| NVIDIA-SMI 535.104.05             Driver Version: 535.104.05   CUDA Version: 12.2     |\n",
            "|-----------------------------------------+----------------------+----------------------+\n",
            "| GPU  Name                 Persistence-M | Bus-Id        Disp.A | Volatile Uncorr. ECC |\n",
            "| Fan  Temp   Perf          Pwr:Usage/Cap |         Memory-Usage | GPU-Util  Compute M. |\n",
            "|                                         |                      |               MIG M. |\n",
            "|=========================================+======================+======================|\n",
            "|   0  NVIDIA L4                      Off | 00000000:00:03.0 Off |                    0 |\n",
            "| N/A   32C    P8              11W /  72W |      1MiB / 23034MiB |      0%      Default |\n",
            "|                                         |                      |                  N/A |\n",
            "+-----------------------------------------+----------------------+----------------------+\n",
            "                                                                                         \n",
            "+---------------------------------------------------------------------------------------+\n",
            "| Processes:                                                                            |\n",
            "|  GPU   GI   CI        PID   Type   Process name                            GPU Memory |\n",
            "|        ID   ID                                                             Usage      |\n",
            "|=======================================================================================|\n",
            "|  No running processes found                                                           |\n",
            "+---------------------------------------------------------------------------------------+\n"
          ]
        }
      ],
      "source": [
        "!nvidia-smi"
      ]
    },
    {
      "cell_type": "markdown",
      "metadata": {
        "id": "C-CtpJ44AvxA"
      },
      "source": [
        "Install Requirements.txt"
      ]
    },
    {
      "cell_type": "code",
      "execution_count": 3,
      "metadata": {
        "colab": {
          "base_uri": "https://localhost:8080/",
          "height": 1000
        },
        "id": "em9OT7I6A-ps",
        "outputId": "35cca958-6a99-4594-a43f-f16684df7210"
      },
      "outputs": [
        {
          "output_type": "stream",
          "name": "stdout",
          "text": [
            "Requirement already satisfied: numpy in /usr/local/lib/python3.10/dist-packages (from -r requirements.txt (line 1)) (1.25.2)\n",
            "Requirement already satisfied: Pillow in /usr/local/lib/python3.10/dist-packages (from -r requirements.txt (line 2)) (9.4.0)\n",
            "Requirement already satisfied: torch in /usr/local/lib/python3.10/dist-packages (from -r requirements.txt (line 3)) (2.3.0+cu121)\n",
            "Collecting torchvision==0.16.1 (from -r requirements.txt (line 4))\n",
            "  Downloading torchvision-0.16.1-cp310-cp310-manylinux1_x86_64.whl (6.8 MB)\n",
            "\u001b[2K     \u001b[90m━━━━━━━━━━━━━━━━━━━━━━━━━━━━━━━━━━━━━━━━\u001b[0m \u001b[32m6.8/6.8 MB\u001b[0m \u001b[31m57.0 MB/s\u001b[0m eta \u001b[36m0:00:00\u001b[0m\n",
            "\u001b[?25hRequirement already satisfied: tqdm in /usr/local/lib/python3.10/dist-packages (from -r requirements.txt (line 5)) (4.66.4)\n",
            "Collecting matplotlib==3.6.2 (from -r requirements.txt (line 6))\n",
            "  Downloading matplotlib-3.6.2-cp310-cp310-manylinux_2_17_x86_64.manylinux2014_x86_64.whl (11.8 MB)\n",
            "\u001b[2K     \u001b[90m━━━━━━━━━━━━━━━━━━━━━━━━━━━━━━━━━━━━━━━━\u001b[0m \u001b[32m11.8/11.8 MB\u001b[0m \u001b[31m87.3 MB/s\u001b[0m eta \u001b[36m0:00:00\u001b[0m\n",
            "\u001b[?25hCollecting wandb (from -r requirements.txt (line 7))\n",
            "  Downloading wandb-0.17.0-py3-none-manylinux_2_5_x86_64.manylinux1_x86_64.manylinux_2_17_x86_64.manylinux2014_x86_64.whl (6.7 MB)\n",
            "\u001b[2K     \u001b[90m━━━━━━━━━━━━━━━━━━━━━━━━━━━━━━━━━━━━━━━━\u001b[0m \u001b[32m6.7/6.7 MB\u001b[0m \u001b[31m87.8 MB/s\u001b[0m eta \u001b[36m0:00:00\u001b[0m\n",
            "\u001b[?25hRequirement already satisfied: requests in /usr/local/lib/python3.10/dist-packages (from torchvision==0.16.1->-r requirements.txt (line 4)) (2.31.0)\n",
            "Collecting torch (from -r requirements.txt (line 3))\n",
            "  Downloading torch-2.1.1-cp310-cp310-manylinux1_x86_64.whl (670.2 MB)\n",
            "\u001b[2K     \u001b[90m━━━━━━━━━━━━━━━━━━━━━━━━━━━━━━━━━━━━━━━━\u001b[0m \u001b[32m670.2/670.2 MB\u001b[0m \u001b[31m2.3 MB/s\u001b[0m eta \u001b[36m0:00:00\u001b[0m\n",
            "\u001b[?25hRequirement already satisfied: filelock in /usr/local/lib/python3.10/dist-packages (from torch->-r requirements.txt (line 3)) (3.14.0)\n",
            "Requirement already satisfied: typing-extensions in /usr/local/lib/python3.10/dist-packages (from torch->-r requirements.txt (line 3)) (4.11.0)\n",
            "Requirement already satisfied: sympy in /usr/local/lib/python3.10/dist-packages (from torch->-r requirements.txt (line 3)) (1.12)\n",
            "Requirement already satisfied: networkx in /usr/local/lib/python3.10/dist-packages (from torch->-r requirements.txt (line 3)) (3.3)\n",
            "Requirement already satisfied: jinja2 in /usr/local/lib/python3.10/dist-packages (from torch->-r requirements.txt (line 3)) (3.1.4)\n",
            "Requirement already satisfied: fsspec in /usr/local/lib/python3.10/dist-packages (from torch->-r requirements.txt (line 3)) (2023.6.0)\n",
            "Collecting nvidia-cuda-nvrtc-cu12==12.1.105 (from torch->-r requirements.txt (line 3))\n",
            "  Using cached nvidia_cuda_nvrtc_cu12-12.1.105-py3-none-manylinux1_x86_64.whl (23.7 MB)\n",
            "Collecting nvidia-cuda-runtime-cu12==12.1.105 (from torch->-r requirements.txt (line 3))\n",
            "  Using cached nvidia_cuda_runtime_cu12-12.1.105-py3-none-manylinux1_x86_64.whl (823 kB)\n",
            "Collecting nvidia-cuda-cupti-cu12==12.1.105 (from torch->-r requirements.txt (line 3))\n",
            "  Using cached nvidia_cuda_cupti_cu12-12.1.105-py3-none-manylinux1_x86_64.whl (14.1 MB)\n",
            "Collecting nvidia-cudnn-cu12==8.9.2.26 (from torch->-r requirements.txt (line 3))\n",
            "  Using cached nvidia_cudnn_cu12-8.9.2.26-py3-none-manylinux1_x86_64.whl (731.7 MB)\n",
            "Collecting nvidia-cublas-cu12==12.1.3.1 (from torch->-r requirements.txt (line 3))\n",
            "  Using cached nvidia_cublas_cu12-12.1.3.1-py3-none-manylinux1_x86_64.whl (410.6 MB)\n",
            "Collecting nvidia-cufft-cu12==11.0.2.54 (from torch->-r requirements.txt (line 3))\n",
            "  Using cached nvidia_cufft_cu12-11.0.2.54-py3-none-manylinux1_x86_64.whl (121.6 MB)\n",
            "Collecting nvidia-curand-cu12==10.3.2.106 (from torch->-r requirements.txt (line 3))\n",
            "  Using cached nvidia_curand_cu12-10.3.2.106-py3-none-manylinux1_x86_64.whl (56.5 MB)\n",
            "Collecting nvidia-cusolver-cu12==11.4.5.107 (from torch->-r requirements.txt (line 3))\n",
            "  Using cached nvidia_cusolver_cu12-11.4.5.107-py3-none-manylinux1_x86_64.whl (124.2 MB)\n",
            "Collecting nvidia-cusparse-cu12==12.1.0.106 (from torch->-r requirements.txt (line 3))\n",
            "  Using cached nvidia_cusparse_cu12-12.1.0.106-py3-none-manylinux1_x86_64.whl (196.0 MB)\n",
            "Collecting nvidia-nccl-cu12==2.18.1 (from torch->-r requirements.txt (line 3))\n",
            "  Downloading nvidia_nccl_cu12-2.18.1-py3-none-manylinux1_x86_64.whl (209.8 MB)\n",
            "\u001b[2K     \u001b[90m━━━━━━━━━━━━━━━━━━━━━━━━━━━━━━━━━━━━━━━━\u001b[0m \u001b[32m209.8/209.8 MB\u001b[0m \u001b[31m3.2 MB/s\u001b[0m eta \u001b[36m0:00:00\u001b[0m\n",
            "\u001b[?25hCollecting nvidia-nvtx-cu12==12.1.105 (from torch->-r requirements.txt (line 3))\n",
            "  Using cached nvidia_nvtx_cu12-12.1.105-py3-none-manylinux1_x86_64.whl (99 kB)\n",
            "Collecting triton==2.1.0 (from torch->-r requirements.txt (line 3))\n",
            "  Downloading triton-2.1.0-0-cp310-cp310-manylinux2014_x86_64.manylinux_2_17_x86_64.whl (89.2 MB)\n",
            "\u001b[2K     \u001b[90m━━━━━━━━━━━━━━━━━━━━━━━━━━━━━━━━━━━━━━━━\u001b[0m \u001b[32m89.2/89.2 MB\u001b[0m \u001b[31m20.0 MB/s\u001b[0m eta \u001b[36m0:00:00\u001b[0m\n",
            "\u001b[?25hRequirement already satisfied: contourpy>=1.0.1 in /usr/local/lib/python3.10/dist-packages (from matplotlib==3.6.2->-r requirements.txt (line 6)) (1.2.1)\n",
            "Requirement already satisfied: cycler>=0.10 in /usr/local/lib/python3.10/dist-packages (from matplotlib==3.6.2->-r requirements.txt (line 6)) (0.12.1)\n",
            "Requirement already satisfied: fonttools>=4.22.0 in /usr/local/lib/python3.10/dist-packages (from matplotlib==3.6.2->-r requirements.txt (line 6)) (4.51.0)\n",
            "Requirement already satisfied: kiwisolver>=1.0.1 in /usr/local/lib/python3.10/dist-packages (from matplotlib==3.6.2->-r requirements.txt (line 6)) (1.4.5)\n",
            "Requirement already satisfied: packaging>=20.0 in /usr/local/lib/python3.10/dist-packages (from matplotlib==3.6.2->-r requirements.txt (line 6)) (24.0)\n",
            "Requirement already satisfied: pyparsing>=2.2.1 in /usr/local/lib/python3.10/dist-packages (from matplotlib==3.6.2->-r requirements.txt (line 6)) (3.1.2)\n",
            "Requirement already satisfied: python-dateutil>=2.7 in /usr/local/lib/python3.10/dist-packages (from matplotlib==3.6.2->-r requirements.txt (line 6)) (2.8.2)\n",
            "Collecting nvidia-nvjitlink-cu12 (from nvidia-cusolver-cu12==11.4.5.107->torch->-r requirements.txt (line 3))\n",
            "  Downloading nvidia_nvjitlink_cu12-12.5.40-py3-none-manylinux2014_x86_64.whl (21.3 MB)\n",
            "\u001b[2K     \u001b[90m━━━━━━━━━━━━━━━━━━━━━━━━━━━━━━━━━━━━━━━━\u001b[0m \u001b[32m21.3/21.3 MB\u001b[0m \u001b[31m74.8 MB/s\u001b[0m eta \u001b[36m0:00:00\u001b[0m\n",
            "\u001b[?25hRequirement already satisfied: click!=8.0.0,>=7.1 in /usr/local/lib/python3.10/dist-packages (from wandb->-r requirements.txt (line 7)) (8.1.7)\n",
            "Collecting docker-pycreds>=0.4.0 (from wandb->-r requirements.txt (line 7))\n",
            "  Downloading docker_pycreds-0.4.0-py2.py3-none-any.whl (9.0 kB)\n",
            "Collecting gitpython!=3.1.29,>=1.0.0 (from wandb->-r requirements.txt (line 7))\n",
            "  Downloading GitPython-3.1.43-py3-none-any.whl (207 kB)\n",
            "\u001b[2K     \u001b[90m━━━━━━━━━━━━━━━━━━━━━━━━━━━━━━━━━━━━━━━━\u001b[0m \u001b[32m207.3/207.3 kB\u001b[0m \u001b[31m28.1 MB/s\u001b[0m eta \u001b[36m0:00:00\u001b[0m\n",
            "\u001b[?25hRequirement already satisfied: platformdirs in /usr/local/lib/python3.10/dist-packages (from wandb->-r requirements.txt (line 7)) (4.2.2)\n",
            "Requirement already satisfied: protobuf!=4.21.0,<5,>=3.19.0 in /usr/local/lib/python3.10/dist-packages (from wandb->-r requirements.txt (line 7)) (3.20.3)\n",
            "Requirement already satisfied: psutil>=5.0.0 in /usr/local/lib/python3.10/dist-packages (from wandb->-r requirements.txt (line 7)) (5.9.5)\n",
            "Requirement already satisfied: pyyaml in /usr/local/lib/python3.10/dist-packages (from wandb->-r requirements.txt (line 7)) (6.0.1)\n",
            "Collecting sentry-sdk>=1.0.0 (from wandb->-r requirements.txt (line 7))\n",
            "  Downloading sentry_sdk-2.3.1-py2.py3-none-any.whl (289 kB)\n",
            "\u001b[2K     \u001b[90m━━━━━━━━━━━━━━━━━━━━━━━━━━━━━━━━━━━━━━━━\u001b[0m \u001b[32m289.0/289.0 kB\u001b[0m \u001b[31m34.7 MB/s\u001b[0m eta \u001b[36m0:00:00\u001b[0m\n",
            "\u001b[?25hCollecting setproctitle (from wandb->-r requirements.txt (line 7))\n",
            "  Downloading setproctitle-1.3.3-cp310-cp310-manylinux_2_5_x86_64.manylinux1_x86_64.manylinux_2_17_x86_64.manylinux2014_x86_64.whl (30 kB)\n",
            "Requirement already satisfied: setuptools in /usr/local/lib/python3.10/dist-packages (from wandb->-r requirements.txt (line 7)) (67.7.2)\n",
            "Requirement already satisfied: six>=1.4.0 in /usr/local/lib/python3.10/dist-packages (from docker-pycreds>=0.4.0->wandb->-r requirements.txt (line 7)) (1.16.0)\n",
            "Collecting gitdb<5,>=4.0.1 (from gitpython!=3.1.29,>=1.0.0->wandb->-r requirements.txt (line 7))\n",
            "  Downloading gitdb-4.0.11-py3-none-any.whl (62 kB)\n",
            "\u001b[2K     \u001b[90m━━━━━━━━━━━━━━━━━━━━━━━━━━━━━━━━━━━━━━━━\u001b[0m \u001b[32m62.7/62.7 kB\u001b[0m \u001b[31m10.1 MB/s\u001b[0m eta \u001b[36m0:00:00\u001b[0m\n",
            "\u001b[?25hRequirement already satisfied: charset-normalizer<4,>=2 in /usr/local/lib/python3.10/dist-packages (from requests->torchvision==0.16.1->-r requirements.txt (line 4)) (3.3.2)\n",
            "Requirement already satisfied: idna<4,>=2.5 in /usr/local/lib/python3.10/dist-packages (from requests->torchvision==0.16.1->-r requirements.txt (line 4)) (3.7)\n",
            "Requirement already satisfied: urllib3<3,>=1.21.1 in /usr/local/lib/python3.10/dist-packages (from requests->torchvision==0.16.1->-r requirements.txt (line 4)) (2.0.7)\n",
            "Requirement already satisfied: certifi>=2017.4.17 in /usr/local/lib/python3.10/dist-packages (from requests->torchvision==0.16.1->-r requirements.txt (line 4)) (2024.2.2)\n",
            "Requirement already satisfied: MarkupSafe>=2.0 in /usr/local/lib/python3.10/dist-packages (from jinja2->torch->-r requirements.txt (line 3)) (2.1.5)\n",
            "Requirement already satisfied: mpmath>=0.19 in /usr/local/lib/python3.10/dist-packages (from sympy->torch->-r requirements.txt (line 3)) (1.3.0)\n",
            "Collecting smmap<6,>=3.0.1 (from gitdb<5,>=4.0.1->gitpython!=3.1.29,>=1.0.0->wandb->-r requirements.txt (line 7))\n",
            "  Downloading smmap-5.0.1-py3-none-any.whl (24 kB)\n",
            "Installing collected packages: triton, smmap, setproctitle, sentry-sdk, nvidia-nvtx-cu12, nvidia-nvjitlink-cu12, nvidia-nccl-cu12, nvidia-curand-cu12, nvidia-cufft-cu12, nvidia-cuda-runtime-cu12, nvidia-cuda-nvrtc-cu12, nvidia-cuda-cupti-cu12, nvidia-cublas-cu12, docker-pycreds, nvidia-cusparse-cu12, nvidia-cudnn-cu12, matplotlib, gitdb, nvidia-cusolver-cu12, gitpython, wandb, torch, torchvision\n",
            "  Attempting uninstall: triton\n",
            "    Found existing installation: triton 2.3.0\n",
            "    Uninstalling triton-2.3.0:\n",
            "      Successfully uninstalled triton-2.3.0\n",
            "  Attempting uninstall: matplotlib\n",
            "    Found existing installation: matplotlib 3.7.1\n",
            "    Uninstalling matplotlib-3.7.1:\n",
            "      Successfully uninstalled matplotlib-3.7.1\n",
            "  Attempting uninstall: torch\n",
            "    Found existing installation: torch 2.3.0+cu121\n",
            "    Uninstalling torch-2.3.0+cu121:\n",
            "      Successfully uninstalled torch-2.3.0+cu121\n",
            "  Attempting uninstall: torchvision\n",
            "    Found existing installation: torchvision 0.18.0+cu121\n",
            "    Uninstalling torchvision-0.18.0+cu121:\n",
            "      Successfully uninstalled torchvision-0.18.0+cu121\n",
            "\u001b[31mERROR: pip's dependency resolver does not currently take into account all the packages that are installed. This behaviour is the source of the following dependency conflicts.\n",
            "bigframes 1.6.0 requires matplotlib>=3.7.1, but you have matplotlib 3.6.2 which is incompatible.\n",
            "torchaudio 2.3.0+cu121 requires torch==2.3.0, but you have torch 2.1.1 which is incompatible.\n",
            "torchtext 0.18.0 requires torch>=2.3.0, but you have torch 2.1.1 which is incompatible.\u001b[0m\u001b[31m\n",
            "\u001b[0mSuccessfully installed docker-pycreds-0.4.0 gitdb-4.0.11 gitpython-3.1.43 matplotlib-3.6.2 nvidia-cublas-cu12-12.1.3.1 nvidia-cuda-cupti-cu12-12.1.105 nvidia-cuda-nvrtc-cu12-12.1.105 nvidia-cuda-runtime-cu12-12.1.105 nvidia-cudnn-cu12-8.9.2.26 nvidia-cufft-cu12-11.0.2.54 nvidia-curand-cu12-10.3.2.106 nvidia-cusolver-cu12-11.4.5.107 nvidia-cusparse-cu12-12.1.0.106 nvidia-nccl-cu12-2.18.1 nvidia-nvjitlink-cu12-12.5.40 nvidia-nvtx-cu12-12.1.105 sentry-sdk-2.3.1 setproctitle-1.3.3 smmap-5.0.1 torch-2.1.1 torchvision-0.16.1 triton-2.1.0 wandb-0.17.0\n"
          ]
        },
        {
          "output_type": "display_data",
          "data": {
            "application/vnd.colab-display-data+json": {
              "pip_warning": {
                "packages": [
                  "matplotlib",
                  "mpl_toolkits"
                ]
              },
              "id": "9ed3c62d12814f3782f8352ffd417cf3"
            }
          },
          "metadata": {}
        }
      ],
      "source": [
        "!pip install -r requirements.txt"
      ]
    },
    {
      "cell_type": "markdown",
      "metadata": {
        "id": "cBViJwvRdqlM"
      },
      "source": [
        "Check the predefined arguments in `train.py` and `test.py` to understand how to run the code.\n",
        "\n",
        "You can run the code by using the following command:"
      ]
    },
    {
      "cell_type": "code",
      "execution_count": null,
      "metadata": {
        "colab": {
          "base_uri": "https://localhost:8080/"
        },
        "id": "MKGLhhWAdqlM",
        "outputId": "96974702-66b8-42e7-c635-89820758fe0a"
      },
      "outputs": [
        {
          "name": "stderr",
          "output_type": "stream",
          "text": [
            "[autoreload of matplotlib.transforms failed: Traceback (most recent call last):\n",
            "  File \"/usr/local/lib/python3.10/dist-packages/IPython/extensions/autoreload.py\", line 245, in check\n",
            "    superreload(m, reload, self.old_objects)\n",
            "  File \"/usr/local/lib/python3.10/dist-packages/IPython/extensions/autoreload.py\", line 410, in superreload\n",
            "    update_generic(old_obj, new_obj)\n",
            "  File \"/usr/local/lib/python3.10/dist-packages/IPython/extensions/autoreload.py\", line 347, in update_generic\n",
            "    update(a, b)\n",
            "  File \"/usr/local/lib/python3.10/dist-packages/IPython/extensions/autoreload.py\", line 302, in update_class\n",
            "    if update_generic(old_obj, new_obj): continue\n",
            "  File \"/usr/local/lib/python3.10/dist-packages/IPython/extensions/autoreload.py\", line 347, in update_generic\n",
            "    update(a, b)\n",
            "  File \"/usr/local/lib/python3.10/dist-packages/IPython/extensions/autoreload.py\", line 266, in update_function\n",
            "    setattr(old, name, getattr(new, name))\n",
            "ValueError: __init__() requires a code object with 1 free vars, not 0\n",
            "]\n",
            "[autoreload of matplotlib.patches failed: Traceback (most recent call last):\n",
            "  File \"/usr/local/lib/python3.10/dist-packages/IPython/extensions/autoreload.py\", line 245, in check\n",
            "    superreload(m, reload, self.old_objects)\n",
            "  File \"/usr/local/lib/python3.10/dist-packages/IPython/extensions/autoreload.py\", line 410, in superreload\n",
            "    update_generic(old_obj, new_obj)\n",
            "  File \"/usr/local/lib/python3.10/dist-packages/IPython/extensions/autoreload.py\", line 347, in update_generic\n",
            "    update(a, b)\n",
            "  File \"/usr/local/lib/python3.10/dist-packages/IPython/extensions/autoreload.py\", line 302, in update_class\n",
            "    if update_generic(old_obj, new_obj): continue\n",
            "  File \"/usr/local/lib/python3.10/dist-packages/IPython/extensions/autoreload.py\", line 347, in update_generic\n",
            "    update(a, b)\n",
            "  File \"/usr/local/lib/python3.10/dist-packages/IPython/extensions/autoreload.py\", line 302, in update_class\n",
            "    if update_generic(old_obj, new_obj): continue\n",
            "  File \"/usr/local/lib/python3.10/dist-packages/IPython/extensions/autoreload.py\", line 347, in update_generic\n",
            "    update(a, b)\n",
            "  File \"/usr/local/lib/python3.10/dist-packages/IPython/extensions/autoreload.py\", line 302, in update_class\n",
            "    if update_generic(old_obj, new_obj): continue\n",
            "  File \"/usr/local/lib/python3.10/dist-packages/IPython/extensions/autoreload.py\", line 347, in update_generic\n",
            "    update(a, b)\n",
            "  File \"/usr/local/lib/python3.10/dist-packages/IPython/extensions/autoreload.py\", line 266, in update_function\n",
            "    setattr(old, name, getattr(new, name))\n",
            "ValueError: __init__() requires a code object with 2 free vars, not 0\n",
            "]\n",
            "[autoreload of matplotlib.dviread failed: Traceback (most recent call last):\n",
            "  File \"/usr/local/lib/python3.10/dist-packages/IPython/extensions/autoreload.py\", line 245, in check\n",
            "    superreload(m, reload, self.old_objects)\n",
            "  File \"/usr/local/lib/python3.10/dist-packages/IPython/extensions/autoreload.py\", line 410, in superreload\n",
            "    update_generic(old_obj, new_obj)\n",
            "  File \"/usr/local/lib/python3.10/dist-packages/IPython/extensions/autoreload.py\", line 347, in update_generic\n",
            "    update(a, b)\n",
            "  File \"/usr/local/lib/python3.10/dist-packages/IPython/extensions/autoreload.py\", line 266, in update_function\n",
            "    setattr(old, name, getattr(new, name))\n",
            "ValueError: find_tex_file() requires a code object with 0 free vars, not 10\n",
            "]\n",
            "[autoreload of matplotlib.collections failed: Traceback (most recent call last):\n",
            "  File \"/usr/local/lib/python3.10/dist-packages/IPython/extensions/autoreload.py\", line 245, in check\n",
            "    superreload(m, reload, self.old_objects)\n",
            "  File \"/usr/local/lib/python3.10/dist-packages/IPython/extensions/autoreload.py\", line 410, in superreload\n",
            "    update_generic(old_obj, new_obj)\n",
            "  File \"/usr/local/lib/python3.10/dist-packages/IPython/extensions/autoreload.py\", line 347, in update_generic\n",
            "    update(a, b)\n",
            "  File \"/usr/local/lib/python3.10/dist-packages/IPython/extensions/autoreload.py\", line 302, in update_class\n",
            "    if update_generic(old_obj, new_obj): continue\n",
            "  File \"/usr/local/lib/python3.10/dist-packages/IPython/extensions/autoreload.py\", line 347, in update_generic\n",
            "    update(a, b)\n",
            "  File \"/usr/local/lib/python3.10/dist-packages/IPython/extensions/autoreload.py\", line 266, in update_function\n",
            "    setattr(old, name, getattr(new, name))\n",
            "ValueError: __init__() requires a code object with 2 free vars, not 1\n",
            "]\n",
            "[autoreload of matplotlib.widgets failed: Traceback (most recent call last):\n",
            "  File \"/usr/local/lib/python3.10/dist-packages/IPython/extensions/autoreload.py\", line 245, in check\n",
            "    superreload(m, reload, self.old_objects)\n",
            "  File \"/usr/local/lib/python3.10/dist-packages/IPython/extensions/autoreload.py\", line 410, in superreload\n",
            "    update_generic(old_obj, new_obj)\n",
            "  File \"/usr/local/lib/python3.10/dist-packages/IPython/extensions/autoreload.py\", line 347, in update_generic\n",
            "    update(a, b)\n",
            "  File \"/usr/local/lib/python3.10/dist-packages/IPython/extensions/autoreload.py\", line 302, in update_class\n",
            "    if update_generic(old_obj, new_obj): continue\n",
            "  File \"/usr/local/lib/python3.10/dist-packages/IPython/extensions/autoreload.py\", line 347, in update_generic\n",
            "    update(a, b)\n",
            "  File \"/usr/local/lib/python3.10/dist-packages/IPython/extensions/autoreload.py\", line 266, in update_function\n",
            "    setattr(old, name, getattr(new, name))\n",
            "ValueError: __init__() requires a code object with 4 free vars, not 1\n",
            "]\n",
            "[autoreload of matplotlib.backend_bases failed: Traceback (most recent call last):\n",
            "  File \"/usr/local/lib/python3.10/dist-packages/IPython/extensions/autoreload.py\", line 245, in check\n",
            "    superreload(m, reload, self.old_objects)\n",
            "  File \"/usr/local/lib/python3.10/dist-packages/IPython/extensions/autoreload.py\", line 410, in superreload\n",
            "    update_generic(old_obj, new_obj)\n",
            "  File \"/usr/local/lib/python3.10/dist-packages/IPython/extensions/autoreload.py\", line 347, in update_generic\n",
            "    update(a, b)\n",
            "  File \"/usr/local/lib/python3.10/dist-packages/IPython/extensions/autoreload.py\", line 302, in update_class\n",
            "    if update_generic(old_obj, new_obj): continue\n",
            "  File \"/usr/local/lib/python3.10/dist-packages/IPython/extensions/autoreload.py\", line 347, in update_generic\n",
            "    update(a, b)\n",
            "  File \"/usr/local/lib/python3.10/dist-packages/IPython/extensions/autoreload.py\", line 266, in update_function\n",
            "    setattr(old, name, getattr(new, name))\n",
            "ValueError: draw_gouraud_triangle() requires a code object with 2 free vars, not 0\n",
            "]\n",
            "[autoreload of matplotlib.backends.backend_agg failed: Traceback (most recent call last):\n",
            "  File \"/usr/local/lib/python3.10/dist-packages/IPython/extensions/autoreload.py\", line 245, in check\n",
            "    superreload(m, reload, self.old_objects)\n",
            "  File \"/usr/local/lib/python3.10/dist-packages/IPython/extensions/autoreload.py\", line 410, in superreload\n",
            "    update_generic(old_obj, new_obj)\n",
            "  File \"/usr/local/lib/python3.10/dist-packages/IPython/extensions/autoreload.py\", line 347, in update_generic\n",
            "    update(a, b)\n",
            "  File \"/usr/local/lib/python3.10/dist-packages/IPython/extensions/autoreload.py\", line 302, in update_class\n",
            "    if update_generic(old_obj, new_obj): continue\n",
            "  File \"/usr/local/lib/python3.10/dist-packages/IPython/extensions/autoreload.py\", line 347, in update_generic\n",
            "    update(a, b)\n",
            "  File \"/usr/local/lib/python3.10/dist-packages/IPython/extensions/autoreload.py\", line 266, in update_function\n",
            "    setattr(old, name, getattr(new, name))\n",
            "ValueError: get_text_width_height_descent() requires a code object with 1 free vars, not 0\n",
            "]\n",
            "[autoreload of matplotlib.offsetbox failed: Traceback (most recent call last):\n",
            "  File \"/usr/local/lib/python3.10/dist-packages/IPython/extensions/autoreload.py\", line 245, in check\n",
            "    superreload(m, reload, self.old_objects)\n",
            "  File \"/usr/local/lib/python3.10/dist-packages/IPython/extensions/autoreload.py\", line 410, in superreload\n",
            "    update_generic(old_obj, new_obj)\n",
            "  File \"/usr/local/lib/python3.10/dist-packages/IPython/extensions/autoreload.py\", line 347, in update_generic\n",
            "    update(a, b)\n",
            "  File \"/usr/local/lib/python3.10/dist-packages/IPython/extensions/autoreload.py\", line 266, in update_function\n",
            "    setattr(old, name, getattr(new, name))\n",
            "ValueError: bbox_artist() requires a code object with 2 free vars, not 0\n",
            "]\n",
            "[autoreload of matplotlib.axis failed: Traceback (most recent call last):\n",
            "  File \"/usr/local/lib/python3.10/dist-packages/IPython/extensions/autoreload.py\", line 245, in check\n",
            "    superreload(m, reload, self.old_objects)\n",
            "  File \"/usr/local/lib/python3.10/dist-packages/IPython/extensions/autoreload.py\", line 410, in superreload\n",
            "    update_generic(old_obj, new_obj)\n",
            "  File \"/usr/local/lib/python3.10/dist-packages/IPython/extensions/autoreload.py\", line 347, in update_generic\n",
            "    update(a, b)\n",
            "  File \"/usr/local/lib/python3.10/dist-packages/IPython/extensions/autoreload.py\", line 302, in update_class\n",
            "    if update_generic(old_obj, new_obj): continue\n",
            "  File \"/usr/local/lib/python3.10/dist-packages/IPython/extensions/autoreload.py\", line 347, in update_generic\n",
            "    update(a, b)\n",
            "  File \"/usr/local/lib/python3.10/dist-packages/IPython/extensions/autoreload.py\", line 266, in update_function\n",
            "    setattr(old, name, getattr(new, name))\n",
            "ValueError: grid() requires a code object with 0 free vars, not 4\n",
            "]\n",
            "[autoreload of matplotlib.axes._base failed: Traceback (most recent call last):\n",
            "  File \"/usr/local/lib/python3.10/dist-packages/IPython/extensions/autoreload.py\", line 245, in check\n",
            "    superreload(m, reload, self.old_objects)\n",
            "  File \"/usr/local/lib/python3.10/dist-packages/IPython/extensions/autoreload.py\", line 410, in superreload\n",
            "    update_generic(old_obj, new_obj)\n",
            "  File \"/usr/local/lib/python3.10/dist-packages/IPython/extensions/autoreload.py\", line 347, in update_generic\n",
            "    update(a, b)\n",
            "  File \"/usr/local/lib/python3.10/dist-packages/IPython/extensions/autoreload.py\", line 302, in update_class\n",
            "    if update_generic(old_obj, new_obj): continue\n",
            "  File \"/usr/local/lib/python3.10/dist-packages/IPython/extensions/autoreload.py\", line 347, in update_generic\n",
            "    update(a, b)\n",
            "  File \"/usr/local/lib/python3.10/dist-packages/IPython/extensions/autoreload.py\", line 266, in update_function\n",
            "    setattr(old, name, getattr(new, name))\n",
            "ValueError: grid() requires a code object with 0 free vars, not 4\n",
            "]\n",
            "[autoreload of matplotlib.contour failed: Traceback (most recent call last):\n",
            "  File \"/usr/local/lib/python3.10/dist-packages/IPython/extensions/autoreload.py\", line 245, in check\n",
            "    superreload(m, reload, self.old_objects)\n",
            "  File \"/usr/local/lib/python3.10/dist-packages/IPython/extensions/autoreload.py\", line 410, in superreload\n",
            "    update_generic(old_obj, new_obj)\n",
            "  File \"/usr/local/lib/python3.10/dist-packages/IPython/extensions/autoreload.py\", line 347, in update_generic\n",
            "    update(a, b)\n",
            "  File \"/usr/local/lib/python3.10/dist-packages/IPython/extensions/autoreload.py\", line 302, in update_class\n",
            "    if update_generic(old_obj, new_obj): continue\n",
            "  File \"/usr/local/lib/python3.10/dist-packages/IPython/extensions/autoreload.py\", line 347, in update_generic\n",
            "    update(a, b)\n",
            "  File \"/usr/local/lib/python3.10/dist-packages/IPython/extensions/autoreload.py\", line 266, in update_function\n",
            "    setattr(old, name, getattr(new, name))\n",
            "ValueError: __init__() requires a code object with 2 free vars, not 4\n",
            "]\n",
            "[autoreload of matplotlib.dates failed: Traceback (most recent call last):\n",
            "  File \"/usr/local/lib/python3.10/dist-packages/IPython/extensions/autoreload.py\", line 245, in check\n",
            "    superreload(m, reload, self.old_objects)\n",
            "  File \"/usr/local/lib/python3.10/dist-packages/IPython/extensions/autoreload.py\", line 410, in superreload\n",
            "    update_generic(old_obj, new_obj)\n",
            "  File \"/usr/local/lib/python3.10/dist-packages/IPython/extensions/autoreload.py\", line 347, in update_generic\n",
            "    update(a, b)\n",
            "  File \"/usr/local/lib/python3.10/dist-packages/IPython/extensions/autoreload.py\", line 266, in update_function\n",
            "    setattr(old, name, getattr(new, name))\n",
            "ValueError: julian2num() requires a code object with 2 free vars, not 0\n",
            "]\n",
            "[autoreload of matplotlib.axes._axes failed: Traceback (most recent call last):\n",
            "  File \"/usr/local/lib/python3.10/dist-packages/IPython/extensions/autoreload.py\", line 245, in check\n",
            "    superreload(m, reload, self.old_objects)\n",
            "  File \"/usr/local/lib/python3.10/dist-packages/IPython/extensions/autoreload.py\", line 410, in superreload\n",
            "    update_generic(old_obj, new_obj)\n",
            "  File \"/usr/local/lib/python3.10/dist-packages/IPython/extensions/autoreload.py\", line 347, in update_generic\n",
            "    update(a, b)\n",
            "  File \"/usr/local/lib/python3.10/dist-packages/IPython/extensions/autoreload.py\", line 302, in update_class\n",
            "    if update_generic(old_obj, new_obj): continue\n",
            "  File \"/usr/local/lib/python3.10/dist-packages/IPython/extensions/autoreload.py\", line 347, in update_generic\n",
            "    update(a, b)\n",
            "  File \"/usr/local/lib/python3.10/dist-packages/IPython/extensions/autoreload.py\", line 266, in update_function\n",
            "    setattr(old, name, getattr(new, name))\n",
            "ValueError: imshow() requires a code object with 6 free vars, not 4\n",
            "]\n",
            "[autoreload of mpl_toolkits.mplot3d.axes3d failed: Traceback (most recent call last):\n",
            "  File \"/usr/local/lib/python3.10/dist-packages/IPython/extensions/autoreload.py\", line 245, in check\n",
            "    superreload(m, reload, self.old_objects)\n",
            "  File \"/usr/local/lib/python3.10/dist-packages/IPython/extensions/autoreload.py\", line 410, in superreload\n",
            "    update_generic(old_obj, new_obj)\n",
            "  File \"/usr/local/lib/python3.10/dist-packages/IPython/extensions/autoreload.py\", line 347, in update_generic\n",
            "    update(a, b)\n",
            "  File \"/usr/local/lib/python3.10/dist-packages/IPython/extensions/autoreload.py\", line 302, in update_class\n",
            "    if update_generic(old_obj, new_obj): continue\n",
            "  File \"/usr/local/lib/python3.10/dist-packages/IPython/extensions/autoreload.py\", line 347, in update_generic\n",
            "    update(a, b)\n",
            "  File \"/usr/local/lib/python3.10/dist-packages/IPython/extensions/autoreload.py\", line 266, in update_function\n",
            "    setattr(old, name, getattr(new, name))\n",
            "ValueError: unit_cube() requires a code object with 2 free vars, not 0\n",
            "]\n",
            "[autoreload of matplotlib.colorbar failed: Traceback (most recent call last):\n",
            "  File \"/usr/local/lib/python3.10/dist-packages/IPython/extensions/autoreload.py\", line 245, in check\n",
            "    superreload(m, reload, self.old_objects)\n",
            "  File \"/usr/local/lib/python3.10/dist-packages/IPython/extensions/autoreload.py\", line 410, in superreload\n",
            "    update_generic(old_obj, new_obj)\n",
            "  File \"/usr/local/lib/python3.10/dist-packages/IPython/extensions/autoreload.py\", line 347, in update_generic\n",
            "    update(a, b)\n",
            "  File \"/usr/local/lib/python3.10/dist-packages/IPython/extensions/autoreload.py\", line 302, in update_class\n",
            "    if update_generic(old_obj, new_obj): continue\n",
            "  File \"/usr/local/lib/python3.10/dist-packages/IPython/extensions/autoreload.py\", line 347, in update_generic\n",
            "    update(a, b)\n",
            "  File \"/usr/local/lib/python3.10/dist-packages/IPython/extensions/autoreload.py\", line 266, in update_function\n",
            "    setattr(old, name, getattr(new, name))\n",
            "ValueError: draw() requires a code object with 1 free vars, not 0\n",
            "]\n",
            "[autoreload of matplotlib.figure failed: Traceback (most recent call last):\n",
            "  File \"/usr/local/lib/python3.10/dist-packages/IPython/extensions/autoreload.py\", line 245, in check\n",
            "    superreload(m, reload, self.old_objects)\n",
            "  File \"/usr/local/lib/python3.10/dist-packages/IPython/extensions/autoreload.py\", line 410, in superreload\n",
            "    update_generic(old_obj, new_obj)\n",
            "  File \"/usr/local/lib/python3.10/dist-packages/IPython/extensions/autoreload.py\", line 347, in update_generic\n",
            "    update(a, b)\n",
            "  File \"/usr/local/lib/python3.10/dist-packages/IPython/extensions/autoreload.py\", line 302, in update_class\n",
            "    if update_generic(old_obj, new_obj): continue\n",
            "  File \"/usr/local/lib/python3.10/dist-packages/IPython/extensions/autoreload.py\", line 347, in update_generic\n",
            "    update(a, b)\n",
            "  File \"/usr/local/lib/python3.10/dist-packages/IPython/extensions/autoreload.py\", line 266, in update_function\n",
            "    setattr(old, name, getattr(new, name))\n",
            "ValueError: draw() requires a code object with 1 free vars, not 0\n",
            "]\n",
            "[autoreload of matplotlib.pyplot failed: Traceback (most recent call last):\n",
            "  File \"/usr/local/lib/python3.10/dist-packages/IPython/extensions/autoreload.py\", line 245, in check\n",
            "    superreload(m, reload, self.old_objects)\n",
            "  File \"/usr/local/lib/python3.10/dist-packages/IPython/extensions/autoreload.py\", line 394, in superreload\n",
            "    module = reload(module)\n",
            "  File \"/usr/lib/python3.10/imp.py\", line 315, in reload\n",
            "    return importlib.reload(module)\n",
            "  File \"/usr/lib/python3.10/importlib/__init__.py\", line 169, in reload\n",
            "    _bootstrap._exec(spec, module)\n",
            "  File \"<frozen importlib._bootstrap>\", line 619, in _exec\n",
            "  File \"<frozen importlib._bootstrap_external>\", line 883, in exec_module\n",
            "  File \"<frozen importlib._bootstrap>\", line 241, in _call_with_frames_removed\n",
            "  File \"/usr/local/lib/python3.10/dist-packages/matplotlib/pyplot.py\", line 568, in <module>\n",
            "    def rc_context(rc=None, fname=None):\n",
            "  File \"/usr/local/lib/python3.10/dist-packages/matplotlib/pyplot.py\", line 100, in _copy_docstring_and_deprecators\n",
            "    decorator = _api.deprecation.DECORATORS.get(method)\n",
            "AttributeError: module 'matplotlib._api' has no attribute 'deprecation'\n",
            "]\n"
          ]
        },
        {
          "name": "stdout",
          "output_type": "stream",
          "text": [
            "Failed checking if argv[0] is an import path entry\n",
            "Traceback (most recent call last):\n",
            "  File \"<frozen zipimport>\", line 93, in __init__\n",
            "KeyError: '/content/drive/MyDrive/Colab Notebooks/project2/train.py'\n",
            "\n",
            "During handling of the above exception, another exception occurred:\n",
            "\n",
            "Traceback (most recent call last):\n",
            "  File \"<frozen zipimport>\", line 95, in __init__\n",
            "  File \"<frozen zipimport>\", line 417, in _read_directory\n",
            "KeyboardInterrupt\n"
          ]
        }
      ],
      "source": [
        "!python train.py -h\n",
        "!python test.py -h"
      ]
    },
    {
      "cell_type": "markdown",
      "metadata": {
        "id": "jhkY-COhdqlN"
      },
      "source": [
        "## Training\n",
        "\n",
        "Now you can start to test your own code. Make sure you have uploaded all the files and data needed for the project. Adjust the command below depending on what arguments you want to run."
      ]
    },
    {
      "cell_type": "code",
      "source": [
        "import wandb\n",
        "wandb.login()"
      ],
      "metadata": {
        "colab": {
          "base_uri": "https://localhost:8080/",
          "height": 141
        },
        "id": "atfdrkVgBV4Y",
        "outputId": "d64ddb57-5d4a-4e9b-ecd9-6e166061616f"
      },
      "execution_count": 3,
      "outputs": [
        {
          "output_type": "display_data",
          "data": {
            "text/plain": [
              "<IPython.core.display.Javascript object>"
            ],
            "application/javascript": [
              "\n",
              "        window._wandbApiKey = new Promise((resolve, reject) => {\n",
              "            function loadScript(url) {\n",
              "            return new Promise(function(resolve, reject) {\n",
              "                let newScript = document.createElement(\"script\");\n",
              "                newScript.onerror = reject;\n",
              "                newScript.onload = resolve;\n",
              "                document.body.appendChild(newScript);\n",
              "                newScript.src = url;\n",
              "            });\n",
              "            }\n",
              "            loadScript(\"https://cdn.jsdelivr.net/npm/postmate/build/postmate.min.js\").then(() => {\n",
              "            const iframe = document.createElement('iframe')\n",
              "            iframe.style.cssText = \"width:0;height:0;border:none\"\n",
              "            document.body.appendChild(iframe)\n",
              "            const handshake = new Postmate({\n",
              "                container: iframe,\n",
              "                url: 'https://wandb.ai/authorize'\n",
              "            });\n",
              "            const timeout = setTimeout(() => reject(\"Couldn't auto authenticate\"), 5000)\n",
              "            handshake.then(function(child) {\n",
              "                child.on('authorize', data => {\n",
              "                    clearTimeout(timeout)\n",
              "                    resolve(data)\n",
              "                });\n",
              "            });\n",
              "            })\n",
              "        });\n",
              "    "
            ]
          },
          "metadata": {}
        },
        {
          "output_type": "stream",
          "name": "stderr",
          "text": [
            "\u001b[34m\u001b[1mwandb\u001b[0m: Logging into wandb.ai. (Learn how to deploy a W&B server locally: https://wandb.me/wandb-server)\n",
            "\u001b[34m\u001b[1mwandb\u001b[0m: You can find your API key in your browser here: https://wandb.ai/authorize\n",
            "wandb: Paste an API key from your profile and hit enter, or press ctrl+c to quit:"
          ]
        },
        {
          "name": "stdout",
          "output_type": "stream",
          "text": [
            " ··········\n"
          ]
        },
        {
          "output_type": "stream",
          "name": "stderr",
          "text": [
            "\u001b[34m\u001b[1mwandb\u001b[0m: Appending key for api.wandb.ai to your netrc file: /root/.netrc\n"
          ]
        },
        {
          "output_type": "execute_result",
          "data": {
            "text/plain": [
              "True"
            ]
          },
          "metadata": {},
          "execution_count": 3
        }
      ]
    },
    {
      "cell_type": "code",
      "source": [
        "!wandb login --relogin"
      ],
      "metadata": {
        "colab": {
          "base_uri": "https://localhost:8080/"
        },
        "id": "7420ghjsDqeo",
        "outputId": "de2c5631-16c0-43ed-a6d5-2a3bbc3246e9"
      },
      "execution_count": 9,
      "outputs": [
        {
          "output_type": "stream",
          "name": "stdout",
          "text": [
            "\u001b[34m\u001b[1mwandb\u001b[0m: Logging into wandb.ai. (Learn how to deploy a W&B server locally: https://wandb.me/wandb-server)\n",
            "\u001b[34m\u001b[1mwandb\u001b[0m: You can find your API key in your browser here: https://wandb.ai/authorize\n",
            "\u001b[34m\u001b[1mwandb\u001b[0m: Paste an API key from your profile and hit enter, or press ctrl+c to quit: \n",
            "\u001b[34m\u001b[1mwandb\u001b[0m: Appending key for api.wandb.ai to your netrc file: /root/.netrc\n"
          ]
        }
      ]
    },
    {
      "cell_type": "code",
      "execution_count": 4,
      "metadata": {
        "colab": {
          "base_uri": "https://localhost:8080/"
        },
        "id": "VBX-3fVudqlO",
        "outputId": "b2ee8689-893e-460d-9848-60f113c3286e"
      },
      "outputs": [
        {
          "output_type": "stream",
          "name": "stdout",
          "text": [
            "INFO: Using device cuda\n",
            "\u001b[34m\u001b[1mwandb\u001b[0m: Currently logged in as: \u001b[33moscarvonloehneysen\u001b[0m (\u001b[33morfvl\u001b[0m). Use \u001b[1m`wandb login --relogin`\u001b[0m to force relogin\n",
            "INFO: Network:\n",
            "\t3 input channels\n",
            "\t1 output channels (classes)\n",
            "\tTransposed conv upscaling\n",
            "/usr/local/lib/python3.10/dist-packages/torchvision/transforms/v2/_deprecated.py:43: UserWarning: The transform `ToTensor()` is deprecated and will be removed in a future release. Instead, please use `v2.Compose([v2.ToImage(), v2.ToDtype(torch.float32, scale=True)])`.\n",
            "  warnings.warn(\n",
            "INFO: Creating dataset with 454 examples\n",
            "INFO: Scanning mask files to determine unique values\n",
            "100% 454/454 [00:06<00:00, 67.99it/s] \n",
            "INFO: Unique mask values: [0, 1]\n",
            "\u001b[34m\u001b[1mwandb\u001b[0m: Tracking run with wandb version 0.17.0\n",
            "\u001b[34m\u001b[1mwandb\u001b[0m: Run data is saved locally in \u001b[35m\u001b[1m/content/drive/MyDrive/Colab Notebooks/project2/wandb/run-20240523_201939-3a0we7sa\u001b[0m\n",
            "\u001b[34m\u001b[1mwandb\u001b[0m: Run \u001b[1m`wandb offline`\u001b[0m to turn off syncing.\n",
            "\u001b[34m\u001b[1mwandb\u001b[0m: Syncing run \u001b[33mearnest-glade-8\u001b[0m\n",
            "\u001b[34m\u001b[1mwandb\u001b[0m: ⭐️ View project at \u001b[34m\u001b[4mhttps://wandb.ai/orfvl/U-Net\u001b[0m\n",
            "\u001b[34m\u001b[1mwandb\u001b[0m: 🚀 View run at \u001b[34m\u001b[4mhttps://wandb.ai/orfvl/U-Net/runs/3a0we7sa\u001b[0m\n",
            "INFO: Starting training:\n",
            "        Epochs:          10\n",
            "        Batch size:      10\n",
            "        Learning rate:   1e-05\n",
            "        Training size:   409\n",
            "        Validation size: 45\n",
            "        Checkpoints:     True\n",
            "        Device:          cuda\n",
            "        Images scaling:  1.0\n",
            "        Mixed Precision: True\n",
            "    \n",
            "Epoch 1/10:  20% 80/409 [00:05<00:10, 30.98img/s, loss (batch)=1.49]\n",
            "Validation round:   0% 0/4 [00:00<?, ?batch/s]\u001b[A\n",
            "Validation round:  25% 1/4 [00:04<00:12,  4.09s/batch]\u001b[A\n",
            "Validation round:  50% 2/4 [00:04<00:03,  1.99s/batch]\u001b[A\n",
            "                                                      \u001b[AINFO: Validation Dice score: 0.125\n",
            "INFO: Note: NumExpr detected 16 cores but \"NUMEXPR_MAX_THREADS\" not set, so enforcing safe limit of 8.\n",
            "INFO: NumExpr defaulting to 8 threads.\n",
            "Epoch 1/10:  39% 160/409 [00:11<00:12, 20.25img/s, loss (batch)=1.48]\n",
            "Validation round:   0% 0/4 [00:00<?, ?batch/s]\u001b[A\n",
            "Validation round:  25% 1/4 [00:00<00:02,  1.43batch/s]\u001b[A\n",
            "                                                      \u001b[AINFO: Validation Dice score: 0.12838362157344818\n",
            "Epoch 1/10:  59% 240/409 [00:13<00:06, 27.08img/s, loss (batch)=1.43]\n",
            "Validation round:   0% 0/4 [00:00<?, ?batch/s]\u001b[A\n",
            "Validation round:  25% 1/4 [00:00<00:02,  1.37batch/s]\u001b[A\n",
            "                                                      \u001b[AINFO: Validation Dice score: 0.12626968324184418\n",
            "Epoch 1/10:  78% 320/409 [00:16<00:02, 42.54img/s, loss (batch)=1.3] \n",
            "Validation round:   0% 0/4 [00:00<?, ?batch/s]\u001b[A\n",
            "Validation round:  25% 1/4 [00:00<00:02,  1.19batch/s]\u001b[A\n",
            "                                                      \u001b[AINFO: Validation Dice score: 0.2127087116241455\n",
            "Epoch 1/10:  98% 400/409 [00:18<00:00, 50.14img/s, loss (batch)=1.16]\n",
            "Validation round:   0% 0/4 [00:00<?, ?batch/s]\u001b[A\n",
            "Validation round:  25% 1/4 [00:00<00:02,  1.20batch/s]\u001b[A\n",
            "                                                      \u001b[AINFO: Validation Dice score: 0.1804482340812683\n",
            "Epoch 1/10: 100% 409/409 [00:20<00:00, 19.97img/s, loss (batch)=1.09]\n",
            "INFO: Checkpoint 1 saved!\n",
            "Epoch 2/10:  17% 70/409 [00:02<00:09, 34.20img/s, loss (batch)=1.17]\n",
            "Validation round:   0% 0/4 [00:00<?, ?batch/s]\u001b[A\n",
            "Validation round:  25% 1/4 [00:02<00:06,  2.03s/batch]\u001b[A\n",
            "                                                      \u001b[AINFO: Validation Dice score: 0.18002058565616608\n",
            "Epoch 2/10:  37% 150/409 [00:06<00:07, 34.40img/s, loss (batch)=1.1]  \n",
            "Validation round:   0% 0/4 [00:00<?, ?batch/s]\u001b[A\n",
            "Validation round:  25% 1/4 [00:00<00:02,  1.14batch/s]\u001b[A\n",
            "                                                      \u001b[AINFO: Validation Dice score: 0.19565503299236298\n",
            "Epoch 2/10:  56% 230/409 [00:08<00:04, 43.73img/s, loss (batch)=0.95]\n",
            "Validation round:   0% 0/4 [00:00<?, ?batch/s]\u001b[A\n",
            "Validation round:  25% 1/4 [00:00<00:02,  1.14batch/s]\u001b[A\n",
            "                                                      \u001b[AINFO: Validation Dice score: 0.20025135576725006\n",
            "Epoch 2/10:  76% 310/409 [00:10<00:01, 50.80img/s, loss (batch)=0.892]\n",
            "Validation round:   0% 0/4 [00:00<?, ?batch/s]\u001b[A\n",
            "Validation round:  25% 1/4 [00:00<00:02,  1.15batch/s]\u001b[A\n",
            "                                                      \u001b[AINFO: Validation Dice score: 0.24145203828811646\n",
            "Epoch 2/10:  95% 390/409 [00:12<00:00, 40.04img/s, loss (batch)=0.914]\n",
            "Validation round:   0% 0/4 [00:00<?, ?batch/s]\u001b[A\n",
            "Validation round:  25% 1/4 [00:00<00:02,  1.12batch/s]\u001b[A\n",
            "                                                      \u001b[AINFO: Validation Dice score: 0.29277709126472473\n",
            "Epoch 2/10: 100% 409/409 [00:14<00:00, 27.33img/s, loss (batch)=1.02]\n",
            "INFO: Checkpoint 2 saved!\n",
            "Epoch 3/10:  15% 60/409 [00:02<00:15, 23.17img/s, loss (batch)=0.883]\n",
            "Validation round:   0% 0/4 [00:00<?, ?batch/s]\u001b[A\n",
            "Validation round:  25% 1/4 [00:01<00:03,  1.23s/batch]\u001b[A\n",
            "                                                      \u001b[AINFO: Validation Dice score: 0.29205912351608276\n",
            "Epoch 3/10:  34% 140/409 [00:05<00:06, 39.05img/s, loss (batch)=0.984]\n",
            "Validation round:   0% 0/4 [00:00<?, ?batch/s]\u001b[A\n",
            "Validation round:  25% 1/4 [00:00<00:02,  1.28batch/s]\u001b[A\n",
            "                                                      \u001b[AINFO: Validation Dice score: 0.2808995544910431\n",
            "Epoch 3/10:  54% 220/409 [00:07<00:03, 47.50img/s, loss (batch)=0.837]\n",
            "Validation round:   0% 0/4 [00:00<?, ?batch/s]\u001b[A\n",
            "Validation round:  25% 1/4 [00:00<00:02,  1.26batch/s]\u001b[A\n",
            "                                                      \u001b[AINFO: Validation Dice score: 0.3483750820159912\n",
            "Epoch 3/10:  73% 300/409 [00:09<00:02, 53.06img/s, loss (batch)=0.81] \n",
            "Validation round:   0% 0/4 [00:00<?, ?batch/s]\u001b[A\n",
            "Validation round:  25% 1/4 [00:00<00:02,  1.20batch/s]\u001b[A\n",
            "                                                      \u001b[AINFO: Validation Dice score: 0.38624706864356995\n",
            "Epoch 3/10:  93% 380/409 [00:11<00:00, 39.65img/s, loss (batch)=0.861]\n",
            "Validation round:   0% 0/4 [00:00<?, ?batch/s]\u001b[A\n",
            "Validation round:  25% 1/4 [00:00<00:02,  1.22batch/s]\u001b[A\n",
            "                                                      \u001b[AINFO: Validation Dice score: 0.40825870633125305\n",
            "Epoch 3/10: 100% 409/409 [00:13<00:00, 29.42img/s, loss (batch)=0.746]\n",
            "INFO: Checkpoint 3 saved!\n",
            "Epoch 4/10:  12% 50/409 [00:02<00:15, 23.62img/s, loss (batch)=0.905]\n",
            "Validation round:   0% 0/4 [00:00<?, ?batch/s]\u001b[A\n",
            "Validation round:  25% 1/4 [00:01<00:04,  1.34s/batch]\u001b[A\n",
            "                                                      \u001b[AINFO: Validation Dice score: 0.272959440946579\n",
            "Epoch 4/10:  32% 130/409 [00:05<00:07, 36.29img/s, loss (batch)=0.741]\n",
            "Validation round:   0% 0/4 [00:00<?, ?batch/s]\u001b[A\n",
            "Validation round:  25% 1/4 [00:00<00:02,  1.07batch/s]\u001b[A\n",
            "                                                      \u001b[AINFO: Validation Dice score: 0.42391693592071533\n",
            "Epoch 4/10:  51% 210/409 [00:07<00:04, 43.77img/s, loss (batch)=0.637]\n",
            "Validation round:   0% 0/4 [00:00<?, ?batch/s]\u001b[A\n",
            "Validation round:  25% 1/4 [00:00<00:02,  1.20batch/s]\u001b[A\n",
            "                                                      \u001b[AINFO: Validation Dice score: 0.3781770169734955\n",
            "Epoch 4/10:  71% 290/409 [00:09<00:02, 50.75img/s, loss (batch)=1.11] \n",
            "Validation round:   0% 0/4 [00:00<?, ?batch/s]\u001b[A\n",
            "Validation round:  25% 1/4 [00:00<00:02,  1.16batch/s]\u001b[A\n",
            "                                                      \u001b[AINFO: Validation Dice score: 0.38104528188705444\n",
            "Epoch 4/10:  90% 370/409 [00:12<00:00, 39.41img/s, loss (batch)=0.927]\n",
            "Validation round:   0% 0/4 [00:00<?, ?batch/s]\u001b[A\n",
            "Validation round:  25% 1/4 [00:00<00:02,  1.15batch/s]\u001b[A\n",
            "                                                      \u001b[AINFO: Validation Dice score: 0.39122140407562256\n",
            "Epoch 4/10: 100% 409/409 [00:14<00:00, 28.70img/s, loss (batch)=0.794]\n",
            "INFO: Checkpoint 4 saved!\n",
            "Epoch 5/10:  10% 40/409 [00:03<00:22, 16.13img/s, loss (batch)=0.691]\n",
            "Validation round:   0% 0/4 [00:00<?, ?batch/s]\u001b[A\n",
            "Validation round:  25% 1/4 [00:01<00:03,  1.18s/batch]\u001b[A\n",
            "                                                      \u001b[AINFO: Validation Dice score: 0.3904572129249573\n",
            "Epoch 5/10:  29% 120/409 [00:05<00:08, 33.27img/s, loss (batch)=0.873]\n",
            "Validation round:   0% 0/4 [00:00<?, ?batch/s]\u001b[A\n",
            "Validation round:  25% 1/4 [00:00<00:02,  1.21batch/s]\u001b[A\n",
            "                                                      \u001b[AINFO: Validation Dice score: 0.4186893105506897\n",
            "Epoch 5/10:  49% 200/409 [00:08<00:04, 43.66img/s, loss (batch)=0.647]\n",
            "Validation round:   0% 0/4 [00:00<?, ?batch/s]\u001b[A\n",
            "Validation round:  25% 1/4 [00:00<00:02,  1.16batch/s]\u001b[A\n",
            "                                                      \u001b[AINFO: Validation Dice score: 0.4268300235271454\n",
            "Epoch 5/10:  68% 280/409 [00:10<00:03, 36.30img/s, loss (batch)=0.978]\n",
            "Validation round:   0% 0/4 [00:00<?, ?batch/s]\u001b[A\n",
            "Validation round:  25% 1/4 [00:00<00:02,  1.19batch/s]\u001b[A\n",
            "                                                      \u001b[AINFO: Validation Dice score: 0.4026212692260742\n",
            "Epoch 5/10:  88% 360/409 [00:12<00:01, 46.62img/s, loss (batch)=0.967]\n",
            "Validation round:   0% 0/4 [00:00<?, ?batch/s]\u001b[A\n",
            "Validation round:  25% 1/4 [00:00<00:02,  1.19batch/s]\u001b[A\n",
            "                                                      \u001b[AINFO: Validation Dice score: 0.4235261082649231\n",
            "Epoch 5/10: 100% 409/409 [00:15<00:00, 27.09img/s, loss (batch)=0.788]\n",
            "INFO: Checkpoint 5 saved!\n",
            "Epoch 6/10:   7% 30/409 [00:02<01:17,  4.91img/s, loss (batch)=0.836]\n",
            "Validation round:   0% 0/4 [00:00<?, ?batch/s]\u001b[A\n",
            "Validation round:  25% 1/4 [00:01<00:03,  1.13s/batch]\u001b[A\n",
            "                                                      \u001b[AINFO: Validation Dice score: 0.43829140067100525\n",
            "Epoch 6/10:  27% 110/409 [00:04<00:09, 32.70img/s, loss (batch)=0.886]\n",
            "Validation round:   0% 0/4 [00:00<?, ?batch/s]\u001b[A\n",
            "Validation round:  25% 1/4 [00:00<00:02,  1.09batch/s]\u001b[A\n",
            "                                                      \u001b[AINFO: Validation Dice score: 0.4304564893245697\n",
            "Epoch 6/10:  46% 190/409 [00:07<00:05, 43.06img/s, loss (batch)=1.02]\n",
            "Validation round:   0% 0/4 [00:00<?, ?batch/s]\u001b[A\n",
            "Validation round:  25% 1/4 [00:00<00:02,  1.18batch/s]\u001b[A\n",
            "                                                      \u001b[AINFO: Validation Dice score: 0.4201969802379608\n",
            "Epoch 6/10:  66% 270/409 [00:09<00:02, 49.90img/s, loss (batch)=0.913]\n",
            "Validation round:   0% 0/4 [00:00<?, ?batch/s]\u001b[A\n",
            "Validation round:  25% 1/4 [00:00<00:02,  1.15batch/s]\u001b[A\n",
            "                                                      \u001b[AINFO: Validation Dice score: 0.38397806882858276\n",
            "Epoch 6/10:  86% 350/409 [00:11<00:01, 38.63img/s, loss (batch)=0.847]\n",
            "Validation round:   0% 0/4 [00:00<?, ?batch/s]\u001b[A\n",
            "Validation round:  25% 1/4 [00:00<00:02,  1.20batch/s]\u001b[A\n",
            "                                                      \u001b[AINFO: Validation Dice score: 0.3961462378501892\n",
            "Epoch 6/10: 100% 409/409 [00:14<00:00, 29.16img/s, loss (batch)=1.01]\n",
            "INFO: Checkpoint 6 saved!\n",
            "Epoch 7/10:   5% 20/409 [00:03<02:01,  3.20img/s, loss (batch)=0.746]\n",
            "Validation round:   0% 0/4 [00:00<?, ?batch/s]\u001b[A\n",
            "Validation round:  25% 1/4 [00:01<00:03,  1.00s/batch]\u001b[A\n",
            "                                                      \u001b[AINFO: Validation Dice score: 0.35100045800209045\n",
            "Epoch 7/10:  24% 100/409 [00:05<00:11, 26.44img/s, loss (batch)=0.688]\n",
            "Validation round:   0% 0/4 [00:00<?, ?batch/s]\u001b[A\n",
            "Validation round:  25% 1/4 [00:00<00:02,  1.16batch/s]\u001b[A\n",
            "                                                      \u001b[AINFO: Validation Dice score: 0.34354346990585327\n",
            "Epoch 7/10:  44% 180/409 [00:08<00:05, 40.56img/s, loss (batch)=0.95] \n",
            "Validation round:   0% 0/4 [00:00<?, ?batch/s]\u001b[A\n",
            "Validation round:  25% 1/4 [00:00<00:02,  1.19batch/s]\u001b[A\n",
            "                                                      \u001b[AINFO: Validation Dice score: 0.4213249683380127\n",
            "Epoch 7/10:  64% 260/409 [00:10<00:03, 49.65img/s, loss (batch)=0.634]\n",
            "Validation round:   0% 0/4 [00:00<?, ?batch/s]\u001b[A\n",
            "Validation round:  25% 1/4 [00:00<00:02,  1.20batch/s]\u001b[A\n",
            "                                                      \u001b[AINFO: Validation Dice score: 0.4712340533733368\n",
            "Epoch 7/10:  83% 340/409 [00:12<00:01, 39.05img/s, loss (batch)=0.908]\n",
            "Validation round:   0% 0/4 [00:00<?, ?batch/s]\u001b[A\n",
            "Validation round:  25% 1/4 [00:00<00:02,  1.19batch/s]\u001b[A\n",
            "                                                      \u001b[AINFO: Validation Dice score: 0.44150644540786743\n",
            "Epoch 7/10: 100% 409/409 [00:14<00:00, 27.51img/s, loss (batch)=0.582]\n",
            "INFO: Checkpoint 7 saved!\n",
            "Epoch 8/10:   2% 10/409 [00:02<01:25,  4.67img/s, loss (batch)=0.907]\n",
            "Validation round:   0% 0/4 [00:00<?, ?batch/s]\u001b[A\n",
            "Validation round:  25% 1/4 [00:00<00:02,  1.01batch/s]\u001b[A\n",
            "                                                      \u001b[AINFO: Validation Dice score: 0.4460306465625763\n",
            "Epoch 8/10:  22% 90/409 [00:04<00:11, 28.56img/s, loss (batch)=0.772]\n",
            "Validation round:   0% 0/4 [00:00<?, ?batch/s]\u001b[A\n",
            "Validation round:  25% 1/4 [00:00<00:02,  1.16batch/s]\u001b[A\n",
            "                                                      \u001b[AINFO: Validation Dice score: 0.47812727093696594\n",
            "Epoch 8/10:  42% 170/409 [00:07<00:05, 41.93img/s, loss (batch)=0.787]\n",
            "Validation round:   0% 0/4 [00:00<?, ?batch/s]\u001b[A\n",
            "Validation round:  25% 1/4 [00:00<00:02,  1.17batch/s]\u001b[A\n",
            "                                                      \u001b[AINFO: Validation Dice score: 0.4860039949417114\n",
            "Epoch 8/10:  61% 250/409 [00:09<00:03, 49.52img/s, loss (batch)=0.858]\n",
            "Validation round:   0% 0/4 [00:00<?, ?batch/s]\u001b[A\n",
            "Validation round:  25% 1/4 [00:00<00:02,  1.15batch/s]\u001b[A\n",
            "                                                      \u001b[AINFO: Validation Dice score: 0.4522824287414551\n",
            "Epoch 8/10:  81% 330/409 [00:11<00:02, 38.46img/s, loss (batch)=0.864]\n",
            "Validation round:   0% 0/4 [00:00<?, ?batch/s]\u001b[A\n",
            "Validation round:  25% 1/4 [00:00<00:02,  1.21batch/s]\u001b[A\n",
            "                                                      \u001b[AINFO: Validation Dice score: 0.3938068747520447\n",
            "Epoch 8/10: 100% 409/409 [00:13<00:00, 47.75img/s, loss (batch)=0.772]\n",
            "Validation round:   0% 0/4 [00:00<?, ?batch/s]\u001b[A\n",
            "Validation round:  25% 1/4 [00:00<00:02,  1.23batch/s]\u001b[A\n",
            "                                                      \u001b[AINFO: Validation Dice score: 0.4069691300392151\n",
            "Epoch 8/10: 100% 409/409 [00:16<00:00, 25.56img/s, loss (batch)=0.772]\n",
            "INFO: Checkpoint 8 saved!\n",
            "Epoch 9/10:  20% 80/409 [00:03<00:09, 33.40img/s, loss (batch)=0.764]\n",
            "Validation round:   0% 0/4 [00:00<?, ?batch/s]\u001b[A\n",
            "Validation round:  25% 1/4 [00:01<00:04,  1.35s/batch]\u001b[A\n",
            "                                                      \u001b[AINFO: Validation Dice score: 0.5107936263084412\n",
            "Epoch 9/10:  39% 160/409 [00:06<00:06, 40.58img/s, loss (batch)=0.772]\n",
            "Validation round:   0% 0/4 [00:00<?, ?batch/s]\u001b[A\n",
            "Validation round:  25% 1/4 [00:00<00:02,  1.17batch/s]\u001b[A\n",
            "                                                      \u001b[AINFO: Validation Dice score: 0.48984965682029724\n",
            "Epoch 9/10:  59% 240/409 [00:08<00:04, 35.39img/s, loss (batch)=0.824]\n",
            "Validation round:   0% 0/4 [00:00<?, ?batch/s]\u001b[A\n",
            "Validation round:  25% 1/4 [00:00<00:02,  1.09batch/s]\u001b[A\n",
            "                                                      \u001b[AINFO: Validation Dice score: 0.4134105145931244\n",
            "Epoch 9/10:  78% 320/409 [00:10<00:01, 45.58img/s, loss (batch)=0.906]\n",
            "Validation round:   0% 0/4 [00:00<?, ?batch/s]\u001b[A\n",
            "Validation round:  25% 1/4 [00:00<00:02,  1.20batch/s]\u001b[A\n",
            "                                                      \u001b[AINFO: Validation Dice score: 0.38508087396621704\n",
            "Epoch 9/10:  98% 400/409 [00:13<00:00, 50.71img/s, loss (batch)=0.623]\n",
            "Validation round:   0% 0/4 [00:00<?, ?batch/s]\u001b[A\n",
            "Validation round:  25% 1/4 [00:00<00:02,  1.21batch/s]\u001b[A\n",
            "                                                      \u001b[AINFO: Validation Dice score: 0.4720648527145386\n",
            "Epoch 9/10: 100% 409/409 [00:15<00:00, 26.91img/s, loss (batch)=0.73]\n",
            "INFO: Checkpoint 9 saved!\n",
            "Epoch 10/10:  17% 70/409 [00:02<00:07, 43.96img/s, loss (batch)=0.739]\n",
            "Validation round:   0% 0/4 [00:00<?, ?batch/s]\u001b[A\n",
            "Validation round:  25% 1/4 [00:01<00:04,  1.42s/batch]\u001b[A\n",
            "                                                      \u001b[AINFO: Validation Dice score: 0.4467236399650574\n",
            "Epoch 10/10:  37% 150/409 [00:05<00:08, 29.03img/s, loss (batch)=0.65] \n",
            "Validation round:   0% 0/4 [00:00<?, ?batch/s]\u001b[A\n",
            "Validation round:  25% 1/4 [00:00<00:02,  1.22batch/s]\u001b[A\n",
            "                                                      \u001b[AINFO: Validation Dice score: 0.46102672815322876\n",
            "Epoch 10/10:  56% 230/409 [00:07<00:04, 43.21img/s, loss (batch)=0.629]\n",
            "Validation round:   0% 0/4 [00:00<?, ?batch/s]\u001b[A\n",
            "Validation round:  25% 1/4 [00:00<00:02,  1.25batch/s]\u001b[A\n",
            "                                                      \u001b[AINFO: Validation Dice score: 0.40608468651771545\n",
            "Epoch 10/10:  76% 310/409 [00:09<00:01, 51.07img/s, loss (batch)=0.863]\n",
            "Validation round:   0% 0/4 [00:00<?, ?batch/s]\u001b[A\n",
            "Validation round:  25% 1/4 [00:00<00:02,  1.30batch/s]\u001b[A\n",
            "                                                      \u001b[AINFO: Validation Dice score: 0.4766659140586853\n",
            "Epoch 10/10:  95% 390/409 [00:12<00:00, 40.39img/s, loss (batch)=0.668]\n",
            "Validation round:   0% 0/4 [00:00<?, ?batch/s]\u001b[A\n",
            "Validation round:  25% 1/4 [00:00<00:02,  1.16batch/s]\u001b[A\n",
            "                                                      \u001b[AINFO: Validation Dice score: 0.4544198215007782\n",
            "Epoch 10/10: 100% 409/409 [00:14<00:00, 28.78img/s, loss (batch)=0.982]\n",
            "INFO: Checkpoint 10 saved!\n"
          ]
        }
      ],
      "source": [
        "!python train.py --amp --scale 1 -e 10 -b 10 -c 1"
      ]
    },
    {
      "cell_type": "markdown",
      "metadata": {
        "id": "MHVFXyeWdqlO"
      },
      "source": [
        "## Testing\n",
        "\n",
        "After training, you can generate the public test predictions and evaluate it by running"
      ]
    },
    {
      "cell_type": "code",
      "execution_count": 24,
      "metadata": {
        "cellView": "form",
        "colab": {
          "base_uri": "https://localhost:8080/",
          "height": 604
        },
        "id": "ZoEcGx7zIbVn",
        "outputId": "af7cdc63-3cb2-4787-da32-1b845333c7ad"
      },
      "outputs": [
        {
          "output_type": "stream",
          "name": "stderr",
          "text": [
            "100%|██████████| 454/454 [00:02<00:00, 152.92it/s]\n"
          ]
        },
        {
          "output_type": "stream",
          "name": "stdout",
          "text": [
            "tensor([[0, 0, 0,  ..., 0, 0, 0],\n",
            "        [0, 0, 0,  ..., 0, 0, 0],\n",
            "        [0, 0, 0,  ..., 0, 0, 0],\n",
            "        ...,\n",
            "        [0, 0, 0,  ..., 0, 0, 0],\n",
            "        [0, 0, 0,  ..., 0, 0, 0],\n",
            "        [0, 0, 0,  ..., 0, 0, 0]])\n",
            "tensor(1)\n",
            "torch.Size([1, 252, 378])\n",
            "[0 1]\n",
            "len 9132\n"
          ]
        },
        {
          "output_type": "display_data",
          "data": {
            "text/plain": [
              "<Figure size 640x480 with 1 Axes>"
            ],
            "image/png": "[encoded data removed]"
          },
          "metadata": {}
        }
      ],
      "source": [
        "# @title Show random gt mask\n",
        "import argparse\n",
        "import logging\n",
        "import os\n",
        "import random\n",
        "import sys\n",
        "import torch\n",
        "import torch.nn as nn\n",
        "import torch.nn.functional as F\n",
        "import torchvision.transforms as transforms\n",
        "import torchvision.transforms.functional as TF\n",
        "from pathlib import Path\n",
        "from torch import optim\n",
        "from torch.utils.data import DataLoader, random_split\n",
        "from tqdm import tqdm\n",
        "\n",
        "import wandb\n",
        "from evaluate import evaluate\n",
        "from unet import UNet\n",
        "from utils.data_loading import BasicDataset\n",
        "from utils.dice_score import dice_loss\n",
        "\n",
        "import matplotlib.pyplot as plt\n",
        "import numpy as np\n",
        "\n",
        "dir_img = Path('/content/drive/MyDrive/Colab Notebooks/project2/datasets/train_images_378_252/rgb')\n",
        "dir_mask = Path('/content/drive/MyDrive/Colab Notebooks/project2/datasets/train_images_378_252/masks')\n",
        "\n",
        "# 1. Create dataset\n",
        "# try:\n",
        "#     dataset = CarvanaDataset(dir_img, dir_mask, img_scale)\n",
        "# except (AssertionError, RuntimeError, IndexError):\n",
        "dataset = BasicDataset(dir_img, dir_mask, 1, mask_suffix='_mask',use_first_n=4)\n",
        "\n",
        "# 2. Split into train / validation partitions\n",
        "n_val = int(len(dataset) * 0.1)\n",
        "n_train = len(dataset) - n_val\n",
        "train_set, val_set = random_split(dataset, [n_train, n_val], generator=torch.Generator().manual_seed(0))\n",
        "\n",
        "# 3. Create data loaders\n",
        "\n",
        "train_loader = DataLoader(train_set, shuffle=True )\n",
        "val_loader = DataLoader(val_set, shuffle=False, drop_last=True)\n",
        "for batch in train_loader:\n",
        "    images, true_masks = batch['image'], batch['mask']\n",
        "    print(true_masks[0])\n",
        "    print(true_masks.max())\n",
        "    print(true_masks.size())\n",
        "    print(np.unique(true_masks[0]))\n",
        "    m = true_masks[0]\n",
        "    # m[m > 1] = 1\n",
        "    print(\"len\", len(m[1  == m]))\n",
        "    plt.imshow(  m )\n",
        "\n",
        "    break\n"
      ]
    },
    {
      "cell_type": "code",
      "execution_count": 5,
      "metadata": {
        "colab": {
          "base_uri": "https://localhost:8080/"
        },
        "id": "1gPptqYYdqlP",
        "outputId": "100e511a-2b8a-4e69-9269-6baf1cdac726"
      },
      "outputs": [
        {
          "output_type": "stream",
          "name": "stdout",
          "text": [
            "[INFO]: Test data root: /content/drive/MyDrive/Colab Notebooks/project2/datasets/public_test_images_378_252/public_test_images_378_252\n",
            "[INFO]: Saving the predicted segmentation masks to public_test/prediction\n",
            "[INFO]: Loading the pre-trained model: /content/drive/MyDrive/Colab Notebooks/project2/checkpoints/checkpoint_epoch10.pth\n",
            "100% 133/133 [00:03<00:00, 40.09it/s]\n",
            "  0% 0/133 [00:00<?, ?it/s]size torch.Size([1, 3, 252, 378])\n",
            "[Info] Mask saved to public_test/prediction/0000_mask.png\n",
            "  1% 1/133 [00:03<08:03,  3.66s/it]size torch.Size([1, 3, 252, 378])\n",
            "[Info] Mask saved to public_test/prediction/0001_mask.png\n",
            "  2% 2/133 [00:04<04:59,  2.29s/it]size torch.Size([1, 3, 252, 378])\n",
            "[Info] Mask saved to public_test/prediction/0002_mask.png\n",
            "  2% 3/133 [00:06<03:46,  1.75s/it]size torch.Size([1, 3, 252, 378])\n",
            "[Info] Mask saved to public_test/prediction/0003_mask.png\n",
            "  3% 4/133 [00:07<03:13,  1.50s/it]size torch.Size([1, 3, 252, 378])\n",
            "[Info] Mask saved to public_test/prediction/0004_mask.png\n",
            "  4% 5/133 [00:08<03:03,  1.44s/it]size torch.Size([1, 3, 252, 378])\n",
            "[Info] Mask saved to public_test/prediction/0005_mask.png\n",
            "  5% 6/133 [00:09<02:47,  1.32s/it]size torch.Size([1, 3, 252, 378])\n",
            "[Info] Mask saved to public_test/prediction/0006_mask.png\n",
            "  5% 7/133 [00:10<02:39,  1.27s/it]size torch.Size([1, 3, 252, 378])\n",
            "[Info] Mask saved to public_test/prediction/0007_mask.png\n",
            "  6% 8/133 [00:11<02:34,  1.23s/it]size torch.Size([1, 3, 252, 378])\n",
            "[Info] Mask saved to public_test/prediction/0008_mask.png\n",
            "  7% 9/133 [00:13<02:32,  1.23s/it]size torch.Size([1, 3, 252, 378])\n",
            "[Info] Mask saved to public_test/prediction/0009_mask.png\n",
            "  8% 10/133 [00:14<02:47,  1.36s/it]size torch.Size([1, 3, 252, 378])\n",
            "[Info] Mask saved to public_test/prediction/0010_mask.png\n",
            "  8% 11/133 [00:15<02:37,  1.29s/it]size torch.Size([1, 3, 252, 378])\n",
            "[Info] Mask saved to public_test/prediction/0011_mask.png\n",
            "  9% 12/133 [00:17<02:34,  1.28s/it]size torch.Size([1, 3, 252, 378])\n",
            "[Info] Mask saved to public_test/prediction/0012_mask.png\n",
            " 10% 13/133 [00:18<02:36,  1.31s/it]size torch.Size([1, 3, 252, 378])\n",
            "[Info] Mask saved to public_test/prediction/0013_mask.png\n",
            " 11% 14/133 [00:19<02:35,  1.31s/it]size torch.Size([1, 3, 252, 378])\n",
            "[Info] Mask saved to public_test/prediction/0014_mask.png\n",
            " 11% 15/133 [00:21<02:34,  1.31s/it]size torch.Size([1, 3, 252, 378])\n",
            "[Info] Mask saved to public_test/prediction/0015_mask.png\n",
            " 12% 16/133 [00:22<02:32,  1.30s/it]size torch.Size([1, 3, 252, 378])\n",
            "[Info] Mask saved to public_test/prediction/0016_mask.png\n",
            " 13% 17/133 [00:24<02:39,  1.38s/it]size torch.Size([1, 3, 252, 378])\n",
            "[Info] Mask saved to public_test/prediction/0017_mask.png\n",
            " 14% 18/133 [00:25<02:31,  1.32s/it]size torch.Size([1, 3, 252, 378])\n",
            "[Info] Mask saved to public_test/prediction/0018_mask.png\n",
            " 14% 19/133 [00:26<02:22,  1.25s/it]size torch.Size([1, 3, 252, 378])\n",
            "[Info] Mask saved to public_test/prediction/0019_mask.png\n",
            " 15% 20/133 [00:27<02:26,  1.29s/it]size torch.Size([1, 3, 252, 378])\n",
            "[Info] Mask saved to public_test/prediction/0020_mask.png\n",
            " 16% 21/133 [00:29<02:25,  1.30s/it]size torch.Size([1, 3, 252, 378])\n",
            "[Info] Mask saved to public_test/prediction/0021_mask.png\n",
            " 17% 22/133 [00:30<02:24,  1.30s/it]size torch.Size([1, 3, 252, 378])\n",
            "[Info] Mask saved to public_test/prediction/0022_mask.png\n",
            " 17% 23/133 [00:31<02:24,  1.31s/it]size torch.Size([1, 3, 252, 378])\n",
            "[Info] Mask saved to public_test/prediction/0023_mask.png\n",
            " 18% 24/133 [00:33<02:24,  1.32s/it]size torch.Size([1, 3, 252, 378])\n",
            "[Info] Mask saved to public_test/prediction/0024_mask.png\n",
            " 19% 25/133 [00:34<02:19,  1.29s/it]size torch.Size([1, 3, 252, 378])\n",
            "[Info] Mask saved to public_test/prediction/0025_mask.png\n",
            " 20% 26/133 [00:35<02:20,  1.31s/it]size torch.Size([1, 3, 252, 378])\n",
            "[Info] Mask saved to public_test/prediction/0026_mask.png\n",
            " 20% 27/133 [00:36<02:12,  1.25s/it]size torch.Size([1, 3, 252, 378])\n",
            "[Info] Mask saved to public_test/prediction/0027_mask.png\n",
            " 21% 28/133 [00:38<02:19,  1.33s/it]size torch.Size([1, 3, 252, 378])\n",
            "[Info] Mask saved to public_test/prediction/0028_mask.png\n",
            " 22% 29/133 [00:39<02:14,  1.29s/it]size torch.Size([1, 3, 252, 378])\n",
            "[Info] Mask saved to public_test/prediction/0029_mask.png\n",
            " 23% 30/133 [00:40<02:14,  1.30s/it]size torch.Size([1, 3, 252, 378])\n",
            "[Info] Mask saved to public_test/prediction/0030_mask.png\n",
            " 23% 31/133 [00:42<02:20,  1.38s/it]size torch.Size([1, 3, 252, 378])\n",
            "[Info] Mask saved to public_test/prediction/0031_mask.png\n",
            " 24% 32/133 [00:43<02:14,  1.34s/it]size torch.Size([1, 3, 252, 378])\n",
            "[Info] Mask saved to public_test/prediction/0032_mask.png\n",
            " 25% 33/133 [00:44<02:14,  1.35s/it]size torch.Size([1, 3, 252, 378])\n",
            "[Info] Mask saved to public_test/prediction/0033_mask.png\n",
            " 26% 34/133 [00:46<02:15,  1.37s/it]size torch.Size([1, 3, 252, 378])\n",
            "[Info] Mask saved to public_test/prediction/0034_mask.png\n",
            " 26% 35/133 [00:47<02:12,  1.35s/it]size torch.Size([1, 3, 252, 378])\n",
            "[Info] Mask saved to public_test/prediction/0035_mask.png\n",
            " 27% 36/133 [00:48<02:02,  1.26s/it]size torch.Size([1, 3, 252, 378])\n",
            "[Info] Mask saved to public_test/prediction/0036_mask.png\n",
            " 28% 37/133 [00:49<02:00,  1.26s/it]size torch.Size([1, 3, 252, 378])\n",
            "[Info] Mask saved to public_test/prediction/0037_mask.png\n",
            " 29% 38/133 [00:51<01:59,  1.26s/it]size torch.Size([1, 3, 252, 378])\n",
            "[Info] Mask saved to public_test/prediction/0038_mask.png\n",
            " 29% 39/133 [00:52<01:58,  1.26s/it]size torch.Size([1, 3, 252, 378])\n",
            "[Info] Mask saved to public_test/prediction/0039_mask.png\n",
            " 30% 40/133 [00:53<01:56,  1.25s/it]size torch.Size([1, 3, 252, 378])\n",
            "[Info] Mask saved to public_test/prediction/0040_mask.png\n",
            " 31% 41/133 [00:55<01:58,  1.28s/it]size torch.Size([1, 3, 252, 378])\n",
            "[Info] Mask saved to public_test/prediction/0041_mask.png\n",
            " 32% 42/133 [00:56<01:56,  1.28s/it]size torch.Size([1, 3, 252, 378])\n",
            "[Info] Mask saved to public_test/prediction/0042_mask.png\n",
            " 32% 43/133 [00:57<01:53,  1.26s/it]size torch.Size([1, 3, 252, 378])\n",
            "[Info] Mask saved to public_test/prediction/0043_mask.png\n",
            " 33% 44/133 [00:58<01:55,  1.30s/it]size torch.Size([1, 3, 252, 378])\n",
            "[Info] Mask saved to public_test/prediction/0044_mask.png\n",
            " 34% 45/133 [01:00<01:51,  1.27s/it]size torch.Size([1, 3, 252, 378])\n",
            "[Info] Mask saved to public_test/prediction/0045_mask.png\n",
            " 35% 46/133 [01:01<01:46,  1.22s/it]size torch.Size([1, 3, 252, 378])\n",
            "[Info] Mask saved to public_test/prediction/0046_mask.png\n",
            " 35% 47/133 [01:02<01:49,  1.27s/it]size torch.Size([1, 3, 252, 378])\n",
            "[Info] Mask saved to public_test/prediction/0047_mask.png\n",
            " 36% 48/133 [01:04<01:52,  1.33s/it]size torch.Size([1, 3, 252, 378])\n",
            "[Info] Mask saved to public_test/prediction/0048_mask.png\n",
            " 37% 49/133 [01:05<01:52,  1.35s/it]size torch.Size([1, 3, 252, 378])\n",
            "[Info] Mask saved to public_test/prediction/0049_mask.png\n",
            " 38% 50/133 [01:06<01:52,  1.36s/it]size torch.Size([1, 3, 252, 378])\n",
            "[Info] Mask saved to public_test/prediction/0050_mask.png\n",
            " 38% 51/133 [01:08<01:55,  1.40s/it]size torch.Size([1, 3, 252, 378])\n",
            "[Info] Mask saved to public_test/prediction/0051_mask.png\n",
            " 39% 52/133 [01:09<01:55,  1.43s/it]size torch.Size([1, 3, 252, 378])\n",
            "[Info] Mask saved to public_test/prediction/0052_mask.png\n",
            " 40% 53/133 [01:11<02:01,  1.52s/it]size torch.Size([1, 3, 252, 378])\n",
            "[Info] Mask saved to public_test/prediction/0053_mask.png\n",
            " 41% 54/133 [01:12<01:53,  1.43s/it]size torch.Size([1, 3, 252, 378])\n",
            "[Info] Mask saved to public_test/prediction/0054_mask.png\n",
            " 41% 55/133 [01:14<01:46,  1.37s/it]size torch.Size([1, 3, 252, 378])\n",
            "[Info] Mask saved to public_test/prediction/0055_mask.png\n",
            " 42% 56/133 [01:15<01:43,  1.35s/it]size torch.Size([1, 3, 252, 378])\n",
            "[Info] Mask saved to public_test/prediction/0056_mask.png\n",
            " 43% 57/133 [01:16<01:41,  1.33s/it]size torch.Size([1, 3, 252, 378])\n",
            "[Info] Mask saved to public_test/prediction/0057_mask.png\n",
            " 44% 58/133 [01:17<01:36,  1.29s/it]size torch.Size([1, 3, 252, 378])\n",
            "[Info] Mask saved to public_test/prediction/0058_mask.png\n",
            " 44% 59/133 [01:18<01:32,  1.25s/it]size torch.Size([1, 3, 252, 378])\n",
            "[Info] Mask saved to public_test/prediction/0059_mask.png\n",
            " 45% 60/133 [01:20<01:31,  1.26s/it]size torch.Size([1, 3, 252, 378])\n",
            "[Info] Mask saved to public_test/prediction/0060_mask.png\n",
            " 46% 61/133 [01:21<01:33,  1.30s/it]size torch.Size([1, 3, 252, 378])\n",
            "[Info] Mask saved to public_test/prediction/0061_mask.png\n",
            " 47% 62/133 [01:23<01:37,  1.37s/it]size torch.Size([1, 3, 252, 378])\n",
            "[Info] Mask saved to public_test/prediction/0062_mask.png\n",
            " 47% 63/133 [01:24<01:39,  1.42s/it]size torch.Size([1, 3, 252, 378])\n",
            "[Info] Mask saved to public_test/prediction/0063_mask.png\n",
            " 48% 64/133 [01:25<01:34,  1.37s/it]size torch.Size([1, 3, 252, 378])\n",
            "[Info] Mask saved to public_test/prediction/0064_mask.png\n",
            " 49% 65/133 [01:31<02:48,  2.48s/it]size torch.Size([1, 3, 252, 378])\n",
            "[Info] Mask saved to public_test/prediction/0065_mask.png\n",
            " 50% 66/133 [01:32<02:19,  2.08s/it]size torch.Size([1, 3, 252, 378])\n",
            "[Info] Mask saved to public_test/prediction/0066_mask.png\n",
            " 50% 67/133 [01:33<02:06,  1.91s/it]size torch.Size([1, 3, 252, 378])\n",
            "[Info] Mask saved to public_test/prediction/0067_mask.png\n",
            " 51% 68/133 [01:35<01:54,  1.76s/it]size torch.Size([1, 3, 252, 378])\n",
            "[Info] Mask saved to public_test/prediction/0068_mask.png\n",
            " 52% 69/133 [01:36<01:43,  1.62s/it]size torch.Size([1, 3, 252, 378])\n",
            "[Info] Mask saved to public_test/prediction/0069_mask.png\n",
            " 53% 70/133 [01:37<01:31,  1.46s/it]size torch.Size([1, 3, 252, 378])\n",
            "[Info] Mask saved to public_test/prediction/0070_mask.png\n",
            " 53% 71/133 [01:38<01:26,  1.39s/it]size torch.Size([1, 3, 252, 378])\n",
            "[Info] Mask saved to public_test/prediction/0071_mask.png\n",
            " 54% 72/133 [01:39<01:21,  1.33s/it]size torch.Size([1, 3, 252, 378])\n",
            "[Info] Mask saved to public_test/prediction/0072_mask.png\n",
            " 55% 73/133 [01:41<01:15,  1.26s/it]size torch.Size([1, 3, 252, 378])\n",
            "[Info] Mask saved to public_test/prediction/0073_mask.png\n",
            " 56% 74/133 [01:42<01:13,  1.25s/it]size torch.Size([1, 3, 252, 378])\n",
            "[Info] Mask saved to public_test/prediction/0074_mask.png\n",
            " 56% 75/133 [01:43<01:10,  1.22s/it]size torch.Size([1, 3, 252, 378])\n",
            "[Info] Mask saved to public_test/prediction/0075_mask.png\n",
            " 57% 76/133 [01:44<01:08,  1.20s/it]size torch.Size([1, 3, 252, 378])\n",
            "[Info] Mask saved to public_test/prediction/0076_mask.png\n",
            " 58% 77/133 [01:45<01:06,  1.19s/it]size torch.Size([1, 3, 252, 378])\n",
            "[Info] Mask saved to public_test/prediction/0077_mask.png\n",
            " 59% 78/133 [01:47<01:07,  1.23s/it]size torch.Size([1, 3, 252, 378])\n",
            "[Info] Mask saved to public_test/prediction/0078_mask.png\n",
            " 59% 79/133 [01:48<01:09,  1.29s/it]size torch.Size([1, 3, 252, 378])\n",
            "[Info] Mask saved to public_test/prediction/0079_mask.png\n",
            " 60% 80/133 [01:50<01:13,  1.39s/it]size torch.Size([1, 3, 252, 378])\n",
            "[Info] Mask saved to public_test/prediction/0080_mask.png\n",
            " 61% 81/133 [01:51<01:12,  1.39s/it]size torch.Size([1, 3, 252, 378])\n",
            "[Info] Mask saved to public_test/prediction/0081_mask.png\n",
            " 62% 82/133 [01:52<01:08,  1.35s/it]size torch.Size([1, 3, 252, 378])\n",
            "[Info] Mask saved to public_test/prediction/0082_mask.png\n",
            " 62% 83/133 [01:54<01:08,  1.37s/it]size torch.Size([1, 3, 252, 378])\n",
            "[Info] Mask saved to public_test/prediction/0083_mask.png\n",
            " 63% 84/133 [01:55<01:06,  1.36s/it]size torch.Size([1, 3, 252, 378])\n",
            "[Info] Mask saved to public_test/prediction/0084_mask.png\n",
            " 64% 85/133 [01:56<01:01,  1.28s/it]size torch.Size([1, 3, 252, 378])\n",
            "[Info] Mask saved to public_test/prediction/0085_mask.png\n",
            " 65% 86/133 [01:58<01:07,  1.43s/it]size torch.Size([1, 3, 252, 378])\n",
            "[Info] Mask saved to public_test/prediction/0086_mask.png\n",
            " 65% 87/133 [01:59<01:04,  1.41s/it]size torch.Size([1, 3, 252, 378])\n",
            "[Info] Mask saved to public_test/prediction/0087_mask.png\n",
            " 66% 88/133 [02:00<01:00,  1.34s/it]size torch.Size([1, 3, 252, 378])\n",
            "[Info] Mask saved to public_test/prediction/0088_mask.png\n",
            " 67% 89/133 [02:02<00:56,  1.28s/it]size torch.Size([1, 3, 252, 378])\n",
            "[Info] Mask saved to public_test/prediction/0089_mask.png\n",
            " 68% 90/133 [02:03<00:54,  1.27s/it]size torch.Size([1, 3, 252, 378])\n",
            "[Info] Mask saved to public_test/prediction/0090_mask.png\n",
            " 68% 91/133 [02:04<00:50,  1.20s/it]size torch.Size([1, 3, 252, 378])\n",
            "[Info] Mask saved to public_test/prediction/0091_mask.png\n",
            " 69% 92/133 [02:05<00:52,  1.27s/it]size torch.Size([1, 3, 252, 378])\n",
            "[Info] Mask saved to public_test/prediction/0092_mask.png\n",
            " 70% 93/133 [02:07<00:54,  1.36s/it]size torch.Size([1, 3, 252, 378])\n",
            "[Info] Mask saved to public_test/prediction/0093_mask.png\n",
            " 71% 94/133 [02:08<00:49,  1.28s/it]size torch.Size([1, 3, 252, 378])\n",
            "[Info] Mask saved to public_test/prediction/0094_mask.png\n",
            " 71% 95/133 [02:09<00:49,  1.31s/it]size torch.Size([1, 3, 252, 378])\n",
            "[Info] Mask saved to public_test/prediction/0095_mask.png\n",
            " 72% 96/133 [02:10<00:45,  1.24s/it]size torch.Size([1, 3, 252, 378])\n",
            "[Info] Mask saved to public_test/prediction/0096_mask.png\n",
            " 73% 97/133 [02:12<00:45,  1.28s/it]size torch.Size([1, 3, 252, 378])\n",
            "[Info] Mask saved to public_test/prediction/0097_mask.png\n",
            " 74% 98/133 [02:13<00:43,  1.24s/it]size torch.Size([1, 3, 252, 378])\n",
            "[Info] Mask saved to public_test/prediction/0098_mask.png\n",
            " 74% 99/133 [02:14<00:41,  1.23s/it]size torch.Size([1, 3, 252, 378])\n",
            "[Info] Mask saved to public_test/prediction/0099_mask.png\n",
            " 75% 100/133 [02:15<00:39,  1.18s/it]size torch.Size([1, 3, 252, 378])\n",
            "[Info] Mask saved to public_test/prediction/0100_mask.png\n",
            " 76% 101/133 [02:16<00:36,  1.14s/it]size torch.Size([1, 3, 252, 378])\n",
            "[Info] Mask saved to public_test/prediction/0101_mask.png\n",
            " 77% 102/133 [02:17<00:34,  1.10s/it]size torch.Size([1, 3, 252, 378])\n",
            "[Info] Mask saved to public_test/prediction/0102_mask.png\n",
            " 77% 103/133 [02:19<00:36,  1.23s/it]size torch.Size([1, 3, 252, 378])\n",
            "[Info] Mask saved to public_test/prediction/0103_mask.png\n",
            " 78% 104/133 [02:20<00:36,  1.24s/it]size torch.Size([1, 3, 252, 378])\n",
            "[Info] Mask saved to public_test/prediction/0104_mask.png\n",
            " 79% 105/133 [02:21<00:33,  1.19s/it]size torch.Size([1, 3, 252, 378])\n",
            "[Info] Mask saved to public_test/prediction/0105_mask.png\n",
            " 80% 106/133 [02:22<00:32,  1.20s/it]size torch.Size([1, 3, 252, 378])\n",
            "[Info] Mask saved to public_test/prediction/0106_mask.png\n",
            " 80% 107/133 [02:24<00:32,  1.23s/it]size torch.Size([1, 3, 252, 378])\n",
            "[Info] Mask saved to public_test/prediction/0107_mask.png\n",
            " 81% 108/133 [02:25<00:30,  1.23s/it]size torch.Size([1, 3, 252, 378])\n",
            "[Info] Mask saved to public_test/prediction/0108_mask.png\n",
            " 82% 109/133 [02:26<00:30,  1.29s/it]size torch.Size([1, 3, 252, 378])\n",
            "[Info] Mask saved to public_test/prediction/0109_mask.png\n",
            " 83% 110/133 [02:27<00:27,  1.21s/it]size torch.Size([1, 3, 252, 378])\n",
            "[Info] Mask saved to public_test/prediction/0110_mask.png\n",
            " 83% 111/133 [02:28<00:26,  1.19s/it]size torch.Size([1, 3, 252, 378])\n",
            "[Info] Mask saved to public_test/prediction/0111_mask.png\n",
            " 84% 112/133 [02:30<00:24,  1.17s/it]size torch.Size([1, 3, 252, 378])\n",
            "[Info] Mask saved to public_test/prediction/0112_mask.png\n",
            " 85% 113/133 [02:31<00:24,  1.23s/it]size torch.Size([1, 3, 252, 378])\n",
            "[Info] Mask saved to public_test/prediction/0113_mask.png\n",
            " 86% 114/133 [02:32<00:22,  1.21s/it]size torch.Size([1, 3, 252, 378])\n",
            "[Info] Mask saved to public_test/prediction/0114_mask.png\n",
            " 86% 115/133 [02:33<00:22,  1.23s/it]size torch.Size([1, 3, 252, 378])\n",
            "[Info] Mask saved to public_test/prediction/0115_mask.png\n",
            " 87% 116/133 [02:35<00:21,  1.25s/it]size torch.Size([1, 3, 252, 378])\n",
            "[Info] Mask saved to public_test/prediction/0116_mask.png\n",
            " 88% 117/133 [02:36<00:19,  1.21s/it]size torch.Size([1, 3, 252, 378])\n",
            "[Info] Mask saved to public_test/prediction/0117_mask.png\n",
            " 89% 118/133 [02:37<00:18,  1.24s/it]size torch.Size([1, 3, 252, 378])\n",
            "[Info] Mask saved to public_test/prediction/0118_mask.png\n",
            " 89% 119/133 [02:38<00:17,  1.22s/it]size torch.Size([1, 3, 252, 378])\n",
            "[Info] Mask saved to public_test/prediction/0119_mask.png\n",
            " 90% 120/133 [02:40<00:16,  1.28s/it]size torch.Size([1, 3, 252, 378])\n",
            "[Info] Mask saved to public_test/prediction/0120_mask.png\n",
            " 91% 121/133 [02:41<00:15,  1.30s/it]size torch.Size([1, 3, 252, 378])\n",
            "[Info] Mask saved to public_test/prediction/0121_mask.png\n",
            " 92% 122/133 [02:42<00:14,  1.30s/it]size torch.Size([1, 3, 252, 378])\n",
            "[Info] Mask saved to public_test/prediction/0122_mask.png\n",
            " 92% 123/133 [02:44<00:13,  1.30s/it]size torch.Size([1, 3, 252, 378])\n",
            "[Info] Mask saved to public_test/prediction/0123_mask.png\n",
            " 93% 124/133 [02:45<00:11,  1.26s/it]size torch.Size([1, 3, 252, 378])\n",
            "[Info] Mask saved to public_test/prediction/0124_mask.png\n",
            " 94% 125/133 [02:46<00:10,  1.30s/it]size torch.Size([1, 3, 252, 378])\n",
            "[Info] Mask saved to public_test/prediction/0125_mask.png\n",
            " 95% 126/133 [02:47<00:08,  1.28s/it]size torch.Size([1, 3, 252, 378])\n",
            "[Info] Mask saved to public_test/prediction/0126_mask.png\n",
            " 95% 127/133 [02:49<00:07,  1.28s/it]size torch.Size([1, 3, 252, 378])\n",
            "[Info] Mask saved to public_test/prediction/0127_mask.png\n",
            " 96% 128/133 [02:50<00:06,  1.30s/it]size torch.Size([1, 3, 252, 378])\n",
            "[Info] Mask saved to public_test/prediction/0128_mask.png\n",
            " 97% 129/133 [02:51<00:05,  1.26s/it]size torch.Size([1, 3, 252, 378])\n",
            "[Info] Mask saved to public_test/prediction/0129_mask.png\n",
            " 98% 130/133 [02:52<00:03,  1.23s/it]size torch.Size([1, 3, 252, 378])\n",
            "[Info] Mask saved to public_test/prediction/0130_mask.png\n",
            " 98% 131/133 [02:54<00:02,  1.22s/it]size torch.Size([1, 3, 252, 378])\n",
            "[Info] Mask saved to public_test/prediction/0131_mask.png\n",
            " 99% 132/133 [02:55<00:01,  1.36s/it]size torch.Size([1, 3, 252, 378])\n",
            "[Info] Mask saved to public_test/prediction/0132_mask.png\n",
            "100% 133/133 [02:56<00:00,  1.33s/it]\n",
            "100% 133/133 [00:00<00:00, 217.59it/s]\n",
            "[INFO]: IoU: 0.038838984211425086\n"
          ]
        }
      ],
      "source": [
        "!python test.py -c 1 --ckpt /content/drive/MyDrive/Colab\\ Notebooks/project2/checkpoints/checkpoint_epoch10.pth --split public_test --data_root /content/drive/MyDrive/Colab\\ Notebooks/project2/datasets/public_test_images_378_252"
      ]
    },
    {
      "cell_type": "code",
      "source": [
        "from PIL import Image\n",
        "# import OS module\n",
        "import os\n",
        "\n",
        "# Get the list of all files and directories\n",
        "path = \"/content/drive/MyDrive/Colab Notebooks/project2/public_test/prediction\"\n",
        "dir_list = os.listdir(path)\n",
        "\n",
        "\n",
        "\n",
        "# Provide the path to your uploaded image\n",
        "\n",
        "print(dir_list[0])\n",
        "image = Image.open(path + \"/\" + dir_list[0])\n",
        "image.show()\n",
        "\n",
        "# Display image properties (width, height, mode)\n",
        "# width, height = image.size\n",
        "# mode = image.mode\n",
        "# print(f\"Image loaded successfully. Dimensions: {width}x{height}, Mode: {mode}\")\n",
        "\n"
      ],
      "metadata": {
        "colab": {
          "base_uri": "https://localhost:8080/"
        },
        "id": "ouwnxYR123cM",
        "outputId": "b6d17b0e-94f2-4221-8178-f9ea6e206bad"
      },
      "execution_count": 32,
      "outputs": [
        {
          "output_type": "stream",
          "name": "stdout",
          "text": [
            "0001_mask.png\n"
          ]
        }
      ]
    },
    {
      "cell_type": "markdown",
      "metadata": {
        "id": "dv4_czEndqlP"
      },
      "source": [
        "The `<path_to_checkpoint>` is the path to the checkpoint file you want to use for generating the predictions.\n",
        "And the output predictions will be saved in the `./public_test/prediction` folder."
      ]
    },
    {
      "cell_type": "markdown",
      "metadata": {
        "id": "yIVHRIXcdqlP"
      },
      "source": [
        "To generate the private test predictions, run:"
      ]
    },
    {
      "cell_type": "code",
      "execution_count": null,
      "metadata": {
        "id": "FW3xmy2adqlQ"
      },
      "outputs": [],
      "source": [
        "!python test.py --ckpt <path_to_checkpoint> --split private_test"
      ]
    },
    {
      "cell_type": "markdown",
      "metadata": {
        "id": "U72hDhX7dqlR"
      },
      "source": [
        "It will generate the predictions for the private test set and save them in the `./private_test/prediction` folder."
      ]
    }
  ],
  "metadata": {
    "accelerator": "GPU",
    "colab": {
      "collapsed_sections": [
        "BTx8Wss3eD0j"
      ],
      "gpuType": "L4",
      "machine_shape": "hm",
      "provenance": [],
      "include_colab_link": true
    },
    "kernelspec": {
      "display_name": "Python 3",
      "name": "python3"
    },
    "language_info": {
      "name": "python"
    }
  },
  "nbformat": 4,
  "nbformat_minor": 0
}